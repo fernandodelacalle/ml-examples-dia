{
 "cells": [
  {
   "cell_type": "code",
   "execution_count": 1,
   "metadata": {},
   "outputs": [
    {
     "name": "stdout",
     "output_type": "stream",
     "text": [
      "WARNING:tensorflow:From /Users/fernando/git/my-code-vault/venv/lib/python3.7/site-packages/tensorflow/python/compat/v2_compat.py:96: disable_resource_variables (from tensorflow.python.ops.variable_scope) is deprecated and will be removed in a future version.\n",
      "Instructions for updating:\n",
      "non-resource variables are not supported in the long term\n"
     ]
    }
   ],
   "source": [
    "import numpy as np\n",
    "import matplotlib.pyplot as plt\n",
    "import tensorflow as tf\n",
    "import utils\n",
    "import pandas as pd\n",
    "import time\n",
    "from IPython import display\n",
    "\n",
    "import tensorflow as tf\n",
    "import tensorflow.compat.v1 as tf\n",
    "tf.disable_v2_behavior()"
   ]
  },
  {
   "cell_type": "markdown",
   "metadata": {},
   "source": [
    "### Read the data"
   ]
  },
  {
   "cell_type": "code",
   "execution_count": 2,
   "metadata": {},
   "outputs": [],
   "source": [
    "data = pd.read_csv('data/birth_life_2010.txt', sep='\\t')"
   ]
  },
  {
   "cell_type": "code",
   "execution_count": 3,
   "metadata": {},
   "outputs": [
    {
     "data": {
      "text/html": [
       "<div>\n",
       "<style scoped>\n",
       "    .dataframe tbody tr th:only-of-type {\n",
       "        vertical-align: middle;\n",
       "    }\n",
       "\n",
       "    .dataframe tbody tr th {\n",
       "        vertical-align: top;\n",
       "    }\n",
       "\n",
       "    .dataframe thead th {\n",
       "        text-align: right;\n",
       "    }\n",
       "</style>\n",
       "<table border=\"1\" class=\"dataframe\">\n",
       "  <thead>\n",
       "    <tr style=\"text-align: right;\">\n",
       "      <th></th>\n",
       "      <th>Country</th>\n",
       "      <th>Birth rate</th>\n",
       "      <th>Life expectancy</th>\n",
       "    </tr>\n",
       "  </thead>\n",
       "  <tbody>\n",
       "    <tr>\n",
       "      <th>0</th>\n",
       "      <td>Vietnam</td>\n",
       "      <td>1.822</td>\n",
       "      <td>74.828244</td>\n",
       "    </tr>\n",
       "    <tr>\n",
       "      <th>1</th>\n",
       "      <td>Vanuatu</td>\n",
       "      <td>3.869</td>\n",
       "      <td>70.819488</td>\n",
       "    </tr>\n",
       "    <tr>\n",
       "      <th>2</th>\n",
       "      <td>Tonga</td>\n",
       "      <td>3.911</td>\n",
       "      <td>72.150659</td>\n",
       "    </tr>\n",
       "    <tr>\n",
       "      <th>3</th>\n",
       "      <td>Timor-Leste</td>\n",
       "      <td>5.578</td>\n",
       "      <td>61.999854</td>\n",
       "    </tr>\n",
       "    <tr>\n",
       "      <th>4</th>\n",
       "      <td>Thailand</td>\n",
       "      <td>1.579</td>\n",
       "      <td>73.927659</td>\n",
       "    </tr>\n",
       "    <tr>\n",
       "      <th>...</th>\n",
       "      <td>...</td>\n",
       "      <td>...</td>\n",
       "      <td>...</td>\n",
       "    </tr>\n",
       "    <tr>\n",
       "      <th>185</th>\n",
       "      <td>Burundi</td>\n",
       "      <td>4.338</td>\n",
       "      <td>49.877220</td>\n",
       "    </tr>\n",
       "    <tr>\n",
       "      <th>186</th>\n",
       "      <td>Burkina Faso</td>\n",
       "      <td>5.850</td>\n",
       "      <td>54.924195</td>\n",
       "    </tr>\n",
       "    <tr>\n",
       "      <th>187</th>\n",
       "      <td>Botswana</td>\n",
       "      <td>2.750</td>\n",
       "      <td>53.109512</td>\n",
       "    </tr>\n",
       "    <tr>\n",
       "      <th>188</th>\n",
       "      <td>Benin</td>\n",
       "      <td>5.287</td>\n",
       "      <td>55.585585</td>\n",
       "    </tr>\n",
       "    <tr>\n",
       "      <th>189</th>\n",
       "      <td>Angola</td>\n",
       "      <td>5.443</td>\n",
       "      <td>50.653659</td>\n",
       "    </tr>\n",
       "  </tbody>\n",
       "</table>\n",
       "<p>190 rows × 3 columns</p>\n",
       "</div>"
      ],
      "text/plain": [
       "          Country  Birth rate  Life expectancy\n",
       "0         Vietnam       1.822        74.828244\n",
       "1         Vanuatu       3.869        70.819488\n",
       "2           Tonga       3.911        72.150659\n",
       "3     Timor-Leste       5.578        61.999854\n",
       "4        Thailand       1.579        73.927659\n",
       "..            ...         ...              ...\n",
       "185       Burundi       4.338        49.877220\n",
       "186  Burkina Faso       5.850        54.924195\n",
       "187      Botswana       2.750        53.109512\n",
       "188         Benin       5.287        55.585585\n",
       "189        Angola       5.443        50.653659\n",
       "\n",
       "[190 rows x 3 columns]"
      ]
     },
     "execution_count": 3,
     "metadata": {},
     "output_type": "execute_result"
    }
   ],
   "source": [
    "data"
   ]
  },
  {
   "cell_type": "code",
   "execution_count": 4,
   "metadata": {},
   "outputs": [
    {
     "data": {
      "text/html": [
       "<div>\n",
       "<style scoped>\n",
       "    .dataframe tbody tr th:only-of-type {\n",
       "        vertical-align: middle;\n",
       "    }\n",
       "\n",
       "    .dataframe tbody tr th {\n",
       "        vertical-align: top;\n",
       "    }\n",
       "\n",
       "    .dataframe thead th {\n",
       "        text-align: right;\n",
       "    }\n",
       "</style>\n",
       "<table border=\"1\" class=\"dataframe\">\n",
       "  <thead>\n",
       "    <tr style=\"text-align: right;\">\n",
       "      <th></th>\n",
       "      <th>Country</th>\n",
       "      <th>Birth rate</th>\n",
       "      <th>Life expectancy</th>\n",
       "    </tr>\n",
       "  </thead>\n",
       "  <tbody>\n",
       "    <tr>\n",
       "      <th>0</th>\n",
       "      <td>Vietnam</td>\n",
       "      <td>1.822</td>\n",
       "      <td>74.828244</td>\n",
       "    </tr>\n",
       "    <tr>\n",
       "      <th>1</th>\n",
       "      <td>Vanuatu</td>\n",
       "      <td>3.869</td>\n",
       "      <td>70.819488</td>\n",
       "    </tr>\n",
       "    <tr>\n",
       "      <th>2</th>\n",
       "      <td>Tonga</td>\n",
       "      <td>3.911</td>\n",
       "      <td>72.150659</td>\n",
       "    </tr>\n",
       "    <tr>\n",
       "      <th>3</th>\n",
       "      <td>Timor-Leste</td>\n",
       "      <td>5.578</td>\n",
       "      <td>61.999854</td>\n",
       "    </tr>\n",
       "    <tr>\n",
       "      <th>4</th>\n",
       "      <td>Thailand</td>\n",
       "      <td>1.579</td>\n",
       "      <td>73.927659</td>\n",
       "    </tr>\n",
       "  </tbody>\n",
       "</table>\n",
       "</div>"
      ],
      "text/plain": [
       "       Country  Birth rate  Life expectancy\n",
       "0      Vietnam       1.822        74.828244\n",
       "1      Vanuatu       3.869        70.819488\n",
       "2        Tonga       3.911        72.150659\n",
       "3  Timor-Leste       5.578        61.999854\n",
       "4     Thailand       1.579        73.927659"
      ]
     },
     "execution_count": 4,
     "metadata": {},
     "output_type": "execute_result"
    }
   ],
   "source": [
    "data.head()"
   ]
  },
  {
   "cell_type": "code",
   "execution_count": 5,
   "metadata": {},
   "outputs": [
    {
     "data": {
      "text/html": [
       "<div>\n",
       "<style scoped>\n",
       "    .dataframe tbody tr th:only-of-type {\n",
       "        vertical-align: middle;\n",
       "    }\n",
       "\n",
       "    .dataframe tbody tr th {\n",
       "        vertical-align: top;\n",
       "    }\n",
       "\n",
       "    .dataframe thead th {\n",
       "        text-align: right;\n",
       "    }\n",
       "</style>\n",
       "<table border=\"1\" class=\"dataframe\">\n",
       "  <thead>\n",
       "    <tr style=\"text-align: right;\">\n",
       "      <th></th>\n",
       "      <th>Birth rate</th>\n",
       "      <th>Life expectancy</th>\n",
       "    </tr>\n",
       "  </thead>\n",
       "  <tbody>\n",
       "    <tr>\n",
       "      <th>count</th>\n",
       "      <td>190.000000</td>\n",
       "      <td>190.000000</td>\n",
       "    </tr>\n",
       "    <tr>\n",
       "      <th>mean</th>\n",
       "      <td>2.814573</td>\n",
       "      <td>69.617474</td>\n",
       "    </tr>\n",
       "    <tr>\n",
       "      <th>std</th>\n",
       "      <td>1.419560</td>\n",
       "      <td>9.813890</td>\n",
       "    </tr>\n",
       "    <tr>\n",
       "      <th>min</th>\n",
       "      <td>1.092000</td>\n",
       "      <td>47.365073</td>\n",
       "    </tr>\n",
       "    <tr>\n",
       "      <th>25%</th>\n",
       "      <td>1.749750</td>\n",
       "      <td>64.712451</td>\n",
       "    </tr>\n",
       "    <tr>\n",
       "      <th>50%</th>\n",
       "      <td>2.311000</td>\n",
       "      <td>73.004707</td>\n",
       "    </tr>\n",
       "    <tr>\n",
       "      <th>75%</th>\n",
       "      <td>3.675250</td>\n",
       "      <td>76.287848</td>\n",
       "    </tr>\n",
       "    <tr>\n",
       "      <th>max</th>\n",
       "      <td>7.063000</td>\n",
       "      <td>82.932683</td>\n",
       "    </tr>\n",
       "  </tbody>\n",
       "</table>\n",
       "</div>"
      ],
      "text/plain": [
       "       Birth rate  Life expectancy\n",
       "count  190.000000       190.000000\n",
       "mean     2.814573        69.617474\n",
       "std      1.419560         9.813890\n",
       "min      1.092000        47.365073\n",
       "25%      1.749750        64.712451\n",
       "50%      2.311000        73.004707\n",
       "75%      3.675250        76.287848\n",
       "max      7.063000        82.932683"
      ]
     },
     "execution_count": 5,
     "metadata": {},
     "output_type": "execute_result"
    }
   ],
   "source": [
    "data.describe()"
   ]
  },
  {
   "cell_type": "code",
   "execution_count": 6,
   "metadata": {},
   "outputs": [
    {
     "data": {
      "text/plain": [
       "[<matplotlib.lines.Line2D at 0x14be65748>]"
      ]
     },
     "execution_count": 6,
     "metadata": {},
     "output_type": "execute_result"
    },
    {
     "data": {
      "image/png": "[encoded data removed]",
      "text/plain": [
       "<Figure size 1080x504 with 1 Axes>"
      ]
     },
     "metadata": {
      "needs_background": "light"
     },
     "output_type": "display_data"
    }
   ],
   "source": [
    "data, n_samples = utils.read_birth_life_data('data/birth_life_2010.txt')\n",
    "fig, ax = plt.subplots(figsize=(15,7))\n",
    "ax.set_xlim([1,8])\n",
    "ax.set_ylim([20,90])\n",
    "ax.set_xlabel('Birth rate')\n",
    "ax.set_ylabel('Life expectancy')\n",
    "ax.plot(data[:,0], data[:,1], 'bo', label='Real data')"
   ]
  },
  {
   "cell_type": "markdown",
   "metadata": {},
   "source": [
    "### Creamos los placeholders"
   ]
  },
  {
   "cell_type": "code",
   "execution_count": 7,
   "metadata": {},
   "outputs": [],
   "source": [
    "X = tf.placeholder(tf.float32, name='X')\n",
    "Y = tf.placeholder(tf.float32, name='Y')"
   ]
  },
  {
   "cell_type": "markdown",
   "metadata": {},
   "source": [
    "### Definimos los pesos y el bias inicializados a 0"
   ]
  },
  {
   "cell_type": "code",
   "execution_count": 8,
   "metadata": {},
   "outputs": [],
   "source": [
    "w = tf.get_variable('weights', initializer=tf.constant(0.0))\n",
    "b = tf.get_variable('bias', initializer=tf.constant(0.0))"
   ]
  },
  {
   "cell_type": "markdown",
   "metadata": {},
   "source": [
    "### Costruimos el modelo"
   ]
  },
  {
   "cell_type": "code",
   "execution_count": 9,
   "metadata": {},
   "outputs": [],
   "source": [
    "Y_predicted = w * X + b "
   ]
  },
  {
   "cell_type": "markdown",
   "metadata": {},
   "source": [
    "### Funcion de perdida como el error cuadratico"
   ]
  },
  {
   "cell_type": "code",
   "execution_count": 10,
   "metadata": {},
   "outputs": [],
   "source": [
    "loss = tf.square(Y - Y_predicted, name='loss')"
   ]
  },
  {
   "cell_type": "markdown",
   "metadata": {},
   "source": [
    "### Descenso por gradiente"
   ]
  },
  {
   "cell_type": "code",
   "execution_count": 11,
   "metadata": {},
   "outputs": [],
   "source": [
    "learning_rate = 0.01\n",
    "optimizer = tf.train.GradientDescentOptimizer(learning_rate=learning_rate).minimize(loss)"
   ]
  },
  {
   "cell_type": "markdown",
   "metadata": {},
   "source": [
    "### Train loop"
   ]
  },
  {
   "cell_type": "code",
   "execution_count": 12,
   "metadata": {},
   "outputs": [
    {
     "name": "stdout",
     "output_type": "stream",
     "text": [
      "Epoch 0: 490.15910439699593\n",
      "Epoch 1: 263.7506495726148\n",
      "Epoch 2: 159.3668263046365\n",
      "Epoch 3: 101.52515189706618\n",
      "Epoch 4: 69.41203513054275\n",
      "Epoch 5: 51.53756947319244\n",
      "Epoch 6: 41.554978463762\n",
      "Epoch 7: 35.955185015482435\n",
      "Epoch 8: 32.795872784100204\n",
      "Epoch 9: 31.000304762651457\n",
      "Epoch 10: 29.970263171720465\n",
      "Epoch 11: 29.3725205919497\n",
      "Epoch 12: 29.020745035464948\n",
      "Epoch 13: 28.810279397442507\n",
      "Epoch 14: 28.68194799397116\n",
      "Epoch 15: 28.602074145584513\n",
      "Epoch 16: 28.551256058196305\n",
      "Epoch 17: 28.518195809317923\n",
      "Epoch 18: 28.49622749929886\n",
      "Epoch 19: 28.48135876765775\n",
      "Epoch 20: 28.47108433970379\n",
      "Epoch 21: 28.463892261157007\n",
      "Epoch 22: 28.458790166528992\n",
      "Epoch 23: 28.455121075511467\n",
      "Epoch 24: 28.452487780626765\n",
      "Epoch 25: 28.450570022248613\n",
      "Epoch 26: 28.4491650285138\n",
      "Epoch 27: 28.448128492816497\n",
      "Epoch 28: 28.447379740185447\n",
      "Epoch 29: 28.446813733601257\n",
      "Epoch 30: 28.44642034321043\n",
      "Epoch 31: 28.446100941920456\n",
      "Epoch 32: 28.445876882288996\n",
      "Epoch 33: 28.44571358670211\n",
      "Epoch 34: 28.445581011104053\n",
      "Epoch 35: 28.44548940979753\n",
      "Epoch 36: 28.44541932363063\n",
      "Epoch 37: 28.44537655092825\n",
      "Epoch 38: 28.445326832325296\n",
      "Epoch 39: 28.44531110687255\n",
      "Epoch 40: 28.44529322704521\n",
      "Epoch 41: 28.44526756942076\n",
      "Epoch 42: 28.44526940303438\n",
      "Epoch 43: 28.445265608790674\n",
      "Epoch 44: 28.44525528914099\n",
      "Epoch 45: 28.44525838950281\n",
      "Epoch 46: 28.44525017474631\n",
      "Epoch 47: 28.445239999253108\n",
      "Epoch 48: 28.445239999253108\n",
      "Epoch 49: 28.445239999253108\n",
      "Epoch 50: 28.445239999253108\n",
      "Epoch 51: 28.445239999253108\n",
      "Epoch 52: 28.445239999253108\n",
      "Epoch 53: 28.445239999253108\n",
      "Epoch 54: 28.445239999253108\n",
      "Epoch 55: 28.445239999253108\n",
      "Epoch 56: 28.445239999253108\n",
      "Epoch 57: 28.445239999253108\n",
      "Epoch 58: 28.445239999253108\n",
      "Epoch 59: 28.445239999253108\n",
      "Epoch 60: 28.445239999253108\n",
      "Epoch 61: 28.445239999253108\n",
      "Epoch 62: 28.445239999253108\n",
      "Epoch 63: 28.445239999253108\n",
      "Epoch 64: 28.445239999253108\n",
      "Epoch 65: 28.445239999253108\n",
      "Epoch 66: 28.445239999253108\n",
      "Epoch 67: 28.445239999253108\n",
      "Epoch 68: 28.445239999253108\n",
      "Epoch 69: 28.445239999253108\n",
      "Epoch 70: 28.445239999253108\n",
      "Epoch 71: 28.445239999253108\n",
      "Epoch 72: 28.445239999253108\n",
      "Epoch 73: 28.445239999253108\n",
      "Epoch 74: 28.445239999253108\n",
      "Epoch 75: 28.445239999253108\n",
      "Epoch 76: 28.445239999253108\n",
      "Epoch 77: 28.445239999253108\n",
      "Epoch 78: 28.445239999253108\n",
      "Epoch 79: 28.445239999253108\n",
      "Epoch 80: 28.445239999253108\n",
      "Epoch 81: 28.445239999253108\n",
      "Epoch 82: 28.445239999253108\n",
      "Epoch 83: 28.445239999253108\n",
      "Epoch 84: 28.445239999253108\n",
      "Epoch 85: 28.445239999253108\n",
      "Epoch 86: 28.445239999253108\n",
      "Epoch 87: 28.445239999253108\n",
      "Epoch 88: 28.445239999253108\n",
      "Epoch 89: 28.445239999253108\n",
      "Epoch 90: 28.445239999253108\n",
      "Epoch 91: 28.445239999253108\n",
      "Epoch 92: 28.445239999253108\n",
      "Epoch 93: 28.445239999253108\n",
      "Epoch 94: 28.445239999253108\n",
      "Epoch 95: 28.445239999253108\n",
      "Epoch 96: 28.445239999253108\n",
      "Epoch 97: 28.445239999253108\n",
      "Epoch 98: 28.445239999253108\n",
      "Epoch 99: 28.445239999253108\n"
     ]
    }
   ],
   "source": [
    "writer = tf.summary.FileWriter('./tutorial_2', tf.get_default_graph())\n",
    "with tf.Session() as sess:\n",
    "    # Inicializamos las variables: w and b\n",
    "    sess.run(tf.global_variables_initializer()) \n",
    "    # Entrenamos el modelo 100 epochs\n",
    "    for i in range(100): \n",
    "        total_loss = 0\n",
    "        for x, y in data:\n",
    "            # Ejecutamos el optimizador rellenando los placeholders\n",
    "            _, l = sess.run([optimizer, loss], feed_dict={X: x, Y:y}) \n",
    "            total_loss += l\n",
    "        print('Epoch {0}: {1}'.format(i, total_loss/n_samples))\n",
    "        w_out, b_out = sess.run([w, b]) \n",
    "    # for tensorboard\n",
    "    writer.close()     "
   ]
  },
  {
   "cell_type": "code",
   "execution_count": 13,
   "metadata": {},
   "outputs": [
    {
     "data": {
      "text/plain": [
       "<matplotlib.legend.Legend at 0x14bed6550>"
      ]
     },
     "execution_count": 13,
     "metadata": {},
     "output_type": "execute_result"
    },
    {
     "data": {
      "image/png": "[encoded data removed]",
      "text/plain": [
       "<Figure size 1080x504 with 1 Axes>"
      ]
     },
     "metadata": {
      "needs_background": "light"
     },
     "output_type": "display_data"
    }
   ],
   "source": [
    "fig, ax = plt.subplots(figsize=(15,7))\n",
    "ax.set_xlim([1,8])\n",
    "ax.set_ylim([20,90])\n",
    "ax.set_xlabel('Birth rate')\n",
    "ax.set_ylabel('Life expectancy')\n",
    "ax.plot(data[:,0], data[:,1], 'bo', label='Real data')\n",
    "ax.plot(data[:,0], data[:,0] * w_out + b_out, 'r', label='Predicted data')\n",
    "ax.legend()"
   ]
  },
  {
   "cell_type": "markdown",
   "metadata": {},
   "source": [
    "### Entrenamiento interactivo"
   ]
  },
  {
   "cell_type": "code",
   "execution_count": 14,
   "metadata": {},
   "outputs": [
    {
     "data": {
      "image/png": "[encoded data removed]",
      "text/plain": [
       "<Figure size 1080x504 with 1 Axes>"
      ]
     },
     "metadata": {},
     "output_type": "display_data"
    },
    {
     "data": {
      "image/png": "[encoded data removed]",
      "text/plain": [
       "<Figure size 1080x504 with 1 Axes>"
      ]
     },
     "metadata": {
      "needs_background": "light"
     },
     "output_type": "display_data"
    }
   ],
   "source": [
    "def plot_graph(fig, ax, w, b, data):\n",
    "    ax.plot(data[:,0], data[:,1], 'bo', label='Real data')\n",
    "    ax.plot(data[:,0], data[:,0] * w_out + b_out, 'r', label='Predicted data')\n",
    "    \n",
    "# plot the results\n",
    "fig, ax = plt.subplots(figsize=(15,7))\n",
    "ax.set_xlim([1,8])\n",
    "ax.set_ylim([20,90])\n",
    "ax.set_xlabel('Birth rate')\n",
    "ax.set_ylabel('Life expectancy')\n",
    "    \n",
    "start = time.time()\n",
    "writer = tf.summary.FileWriter('./graphs/linear_reg', tf.get_default_graph())\n",
    "with tf.Session() as sess:\n",
    "    # Inicializamos las variables: w and b\n",
    "    sess.run(tf.global_variables_initializer()) \n",
    "    # Entrenamos el modelo 100 epochs\n",
    "    for i in range(100): \n",
    "        total_loss = 0\n",
    "        for x, y in data:\n",
    "            # Ejecutamos el optimizador rellenando los placeholders\n",
    "            _, l = sess.run([optimizer, loss], feed_dict={X: x, Y:y}) \n",
    "            total_loss += l\n",
    "        #print('Epoch {0}: {1}'.format(i, total_loss/n_samples))\n",
    "        w_out, b_out = sess.run([w, b]) \n",
    "         \n",
    "        plot_graph(fig, ax, w_out, b_out, data)\n",
    "        display.clear_output(wait=True)\n",
    "        display.display(plt.gcf())\n",
    "    # for tensorboard\n",
    "    writer.close()     "
   ]
  },
  {
   "cell_type": "code",
   "execution_count": null,
   "metadata": {},
   "outputs": [],
   "source": []
  }
 ],
 "metadata": {
  "kernelspec": {
   "display_name": "Python 3",
   "language": "python",
   "name": "python3"
  },
  "language_info": {
   "codemirror_mode": {
    "name": "ipython",
    "version": 3
   },
   "file_extension": ".py",
   "mimetype": "text/x-python",
   "name": "python",
   "nbconvert_exporter": "python",
   "pygments_lexer": "ipython3",
   "version": "3.7.3"
  }
 },
 "nbformat": 4,
 "nbformat_minor": 4
}
