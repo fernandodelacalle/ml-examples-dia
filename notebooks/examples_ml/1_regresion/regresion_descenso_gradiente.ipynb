{
 "cells": [
  {
   "cell_type": "code",
   "execution_count": null,
   "id": "ea9a22bd-8b32-4e93-822f-71cf6c3da075",
   "metadata": {},
   "outputs": [],
   "source": [
    "import numpy as np\n",
    "import pandas as pd\n",
    "import matplotlib.pyplot as plt\n",
    "\n",
    "import pylab as pl\n",
    "from IPython import display\n",
    "import time"
   ]
  },
  {
   "cell_type": "code",
   "execution_count": null,
   "id": "848a157b-833c-4166-b4cf-d3c90c7b0be1",
   "metadata": {},
   "outputs": [],
   "source": [
    "x = np.linspace(0, 10, 100)\n",
    "y = 2*x + 1 +  np.random.normal(size=(100,))"
   ]
  },
  {
   "cell_type": "code",
   "execution_count": null,
   "id": "a27690c4-370b-4f35-a559-88498f748ea9",
   "metadata": {},
   "outputs": [],
   "source": [
    "plt.scatter(x, y)"
   ]
  },
  {
   "cell_type": "code",
   "execution_count": null,
   "id": "987074e5-8603-45f0-8849-c899f07d8602",
   "metadata": {},
   "outputs": [],
   "source": [
    "cov = np.cov(x, y)"
   ]
  },
  {
   "cell_type": "code",
   "execution_count": null,
   "id": "c9f3aaec-f967-4245-9c9e-6b88db38290c",
   "metadata": {},
   "outputs": [],
   "source": [
    "cov"
   ]
  },
  {
   "cell_type": "code",
   "execution_count": null,
   "id": "7ff6744a-eb88-466d-b307-a916da4d41be",
   "metadata": {},
   "outputs": [],
   "source": [
    "w_1 = cov[0,1] / cov[0,0]\n",
    "w_0 = np.mean(y) - w_1*np.mean(x)"
   ]
  },
  {
   "cell_type": "code",
   "execution_count": null,
   "id": "2cb37bf7-779f-4b21-ae17-437789c4c860",
   "metadata": {},
   "outputs": [],
   "source": [
    "print('intercept:', w_0)\n",
    "print('slope:', w_1)"
   ]
  },
  {
   "cell_type": "code",
   "execution_count": null,
   "id": "03d0603b-2c68-4b48-9d46-d1fae14bce0d",
   "metadata": {},
   "outputs": [],
   "source": [
    "plt.scatter(x, y)\n",
    "plt.plot(x, x*w_1 + w_0, 'r')"
   ]
  },
  {
   "cell_type": "code",
   "execution_count": null,
   "id": "71d3c91f-8322-4381-9aa4-a80c6e8f0064",
   "metadata": {},
   "outputs": [],
   "source": [
    "from sklearn.linear_model import LinearRegression\n",
    "model = LinearRegression()\n",
    "model.fit(x.reshape(-1, 1), y)"
   ]
  },
  {
   "cell_type": "code",
   "execution_count": null,
   "id": "1aa97cb2-bbcb-468a-8680-e1fd83629ff3",
   "metadata": {},
   "outputs": [],
   "source": [
    "print('intercept:', model.intercept_)\n",
    "print('slope:', model.coef_)"
   ]
  },
  {
   "cell_type": "code",
   "execution_count": null,
   "id": "cb2becef-b7de-4261-b604-dda3fbc4ec3c",
   "metadata": {},
   "outputs": [],
   "source": [
    "plt.scatter(x, y)\n",
    "plt.plot(x, x*model.coef_ + model.intercept_, 'r')"
   ]
  },
  {
   "cell_type": "markdown",
   "id": "2f77c77e-0758-46e3-9088-a5edd037d4f5",
   "metadata": {},
   "source": [
    "# Descenso por Gradiente\n",
    "___"
   ]
  },
  {
   "cell_type": "code",
   "execution_count": null,
   "id": "3790294d-364e-499d-a485-ad294eb40af3",
   "metadata": {
    "tags": []
   },
   "outputs": [],
   "source": [
    "# Building the model\n",
    "w_0 = np.random.normal()\n",
    "w_1 = np.random.normal()\n",
    "\n",
    "alpha = 0.001  # The learning Rate\n",
    "epochs = 100 # The number of iterations to perform gradient descent\n",
    "\n",
    "n = float(len(x)) # Number of elements in X\n",
    "\n",
    "loss = []\n",
    "\n",
    "fig, (ax1, ax2) = plt.subplots(1,2, figsize=(20,10))\n",
    "\n",
    "# Performing Gradient Descent \n",
    "for i in range(epochs): \n",
    "    y_pred = w_1*x + w_0  # The current predicted value of Y\n",
    "    D_w_1 = (-2/n) * sum(x * (y - y_pred))  # Derivative wrt m\n",
    "    D_w_0 = (-2/n) * sum(y - y_pred)  # Derivative wrt c\n",
    "    w_1 = w_1 - alpha * D_w_1  # Update m\n",
    "    w_0 = w_0 - alpha * D_w_0  # Update c\n",
    "    \n",
    "    y_pred = w_1*x + w_0\n",
    "    loss.append((1/n)*np.sum((y-y_pred)**2))\n",
    "    \n",
    "    # To plot\n",
    "    ax1.clear()\n",
    "    ax2.clear()\n",
    "    ax1.scatter(x, y, color='blue', label=f'y={w_1}*x + {w_0}') \n",
    "    ax1.plot(x, y_pred, color='red')  # regression line\n",
    "    ax1.legend()\n",
    "    ax2.plot(loss)\n",
    "    \n",
    "    display.clear_output(wait=True)\n",
    "    display.display(pl.gcf())"
   ]
  },
  {
   "cell_type": "code",
   "execution_count": null,
   "id": "a0c5ff0a-6fc8-4ed7-8136-5f2d0d5568e3",
   "metadata": {},
   "outputs": [],
   "source": []
  }
 ],
 "metadata": {
  "kernelspec": {
   "display_name": "Python 3 (ipykernel)",
   "language": "python",
   "name": "python3"
  },
  "language_info": {
   "codemirror_mode": {
    "name": "ipython",
    "version": 3
   },
   "file_extension": ".py",
   "mimetype": "text/x-python",
   "name": "python",
   "nbconvert_exporter": "python",
   "pygments_lexer": "ipython3",
   "version": "3.7.3"
  }
 },
 "nbformat": 4,
 "nbformat_minor": 5
}
