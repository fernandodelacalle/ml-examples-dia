{
 "cells": [
  {
   "cell_type": "code",
   "execution_count": 1,
   "id": "1c6176b1-666c-428b-8ee2-866b3ccf2c8e",
   "metadata": {},
   "outputs": [],
   "source": [
    "import pandas as pd\n",
    "from sklearn import datasets\n",
    "\n",
    "import tensorflow as tf\n",
    "import numpy as np\n",
    "import matplotlib.pyplot as plt\n",
    "import os\n",
    "import datetime"
   ]
  },
  {
   "cell_type": "code",
   "execution_count": 2,
   "id": "7bbb6b30-16ad-42a8-b96f-eb4305824b2c",
   "metadata": {},
   "outputs": [],
   "source": [
    "data = datasets.load_boston()\n",
    "raw_dataset = pd.DataFrame(data['data'], columns=data['feature_names'])\n",
    "raw_dataset.loc[:, 'MEDV'] = data['target']\n",
    "dataset = raw_dataset.copy()"
   ]
  },
  {
   "cell_type": "code",
   "execution_count": 3,
   "id": "3884a9f2-3305-4a3d-a5a3-6663d35bb334",
   "metadata": {},
   "outputs": [
    {
     "data": {
      "text/html": [
       "<div>\n",
       "<style scoped>\n",
       "    .dataframe tbody tr th:only-of-type {\n",
       "        vertical-align: middle;\n",
       "    }\n",
       "\n",
       "    .dataframe tbody tr th {\n",
       "        vertical-align: top;\n",
       "    }\n",
       "\n",
       "    .dataframe thead th {\n",
       "        text-align: right;\n",
       "    }\n",
       "</style>\n",
       "<table border=\"1\" class=\"dataframe\">\n",
       "  <thead>\n",
       "    <tr style=\"text-align: right;\">\n",
       "      <th></th>\n",
       "      <th>CRIM</th>\n",
       "      <th>ZN</th>\n",
       "      <th>INDUS</th>\n",
       "      <th>CHAS</th>\n",
       "      <th>NOX</th>\n",
       "      <th>RM</th>\n",
       "      <th>AGE</th>\n",
       "      <th>DIS</th>\n",
       "      <th>RAD</th>\n",
       "      <th>TAX</th>\n",
       "      <th>PTRATIO</th>\n",
       "      <th>B</th>\n",
       "      <th>LSTAT</th>\n",
       "      <th>MEDV</th>\n",
       "    </tr>\n",
       "  </thead>\n",
       "  <tbody>\n",
       "    <tr>\n",
       "      <th>501</th>\n",
       "      <td>0.06263</td>\n",
       "      <td>0.0</td>\n",
       "      <td>11.93</td>\n",
       "      <td>0.0</td>\n",
       "      <td>0.573</td>\n",
       "      <td>6.593</td>\n",
       "      <td>69.1</td>\n",
       "      <td>2.4786</td>\n",
       "      <td>1.0</td>\n",
       "      <td>273.0</td>\n",
       "      <td>21.0</td>\n",
       "      <td>391.99</td>\n",
       "      <td>9.67</td>\n",
       "      <td>22.4</td>\n",
       "    </tr>\n",
       "    <tr>\n",
       "      <th>502</th>\n",
       "      <td>0.04527</td>\n",
       "      <td>0.0</td>\n",
       "      <td>11.93</td>\n",
       "      <td>0.0</td>\n",
       "      <td>0.573</td>\n",
       "      <td>6.120</td>\n",
       "      <td>76.7</td>\n",
       "      <td>2.2875</td>\n",
       "      <td>1.0</td>\n",
       "      <td>273.0</td>\n",
       "      <td>21.0</td>\n",
       "      <td>396.90</td>\n",
       "      <td>9.08</td>\n",
       "      <td>20.6</td>\n",
       "    </tr>\n",
       "    <tr>\n",
       "      <th>503</th>\n",
       "      <td>0.06076</td>\n",
       "      <td>0.0</td>\n",
       "      <td>11.93</td>\n",
       "      <td>0.0</td>\n",
       "      <td>0.573</td>\n",
       "      <td>6.976</td>\n",
       "      <td>91.0</td>\n",
       "      <td>2.1675</td>\n",
       "      <td>1.0</td>\n",
       "      <td>273.0</td>\n",
       "      <td>21.0</td>\n",
       "      <td>396.90</td>\n",
       "      <td>5.64</td>\n",
       "      <td>23.9</td>\n",
       "    </tr>\n",
       "    <tr>\n",
       "      <th>504</th>\n",
       "      <td>0.10959</td>\n",
       "      <td>0.0</td>\n",
       "      <td>11.93</td>\n",
       "      <td>0.0</td>\n",
       "      <td>0.573</td>\n",
       "      <td>6.794</td>\n",
       "      <td>89.3</td>\n",
       "      <td>2.3889</td>\n",
       "      <td>1.0</td>\n",
       "      <td>273.0</td>\n",
       "      <td>21.0</td>\n",
       "      <td>393.45</td>\n",
       "      <td>6.48</td>\n",
       "      <td>22.0</td>\n",
       "    </tr>\n",
       "    <tr>\n",
       "      <th>505</th>\n",
       "      <td>0.04741</td>\n",
       "      <td>0.0</td>\n",
       "      <td>11.93</td>\n",
       "      <td>0.0</td>\n",
       "      <td>0.573</td>\n",
       "      <td>6.030</td>\n",
       "      <td>80.8</td>\n",
       "      <td>2.5050</td>\n",
       "      <td>1.0</td>\n",
       "      <td>273.0</td>\n",
       "      <td>21.0</td>\n",
       "      <td>396.90</td>\n",
       "      <td>7.88</td>\n",
       "      <td>11.9</td>\n",
       "    </tr>\n",
       "  </tbody>\n",
       "</table>\n",
       "</div>"
      ],
      "text/plain": [
       "        CRIM   ZN  INDUS  CHAS    NOX     RM   AGE     DIS  RAD    TAX  \\\n",
       "501  0.06263  0.0  11.93   0.0  0.573  6.593  69.1  2.4786  1.0  273.0   \n",
       "502  0.04527  0.0  11.93   0.0  0.573  6.120  76.7  2.2875  1.0  273.0   \n",
       "503  0.06076  0.0  11.93   0.0  0.573  6.976  91.0  2.1675  1.0  273.0   \n",
       "504  0.10959  0.0  11.93   0.0  0.573  6.794  89.3  2.3889  1.0  273.0   \n",
       "505  0.04741  0.0  11.93   0.0  0.573  6.030  80.8  2.5050  1.0  273.0   \n",
       "\n",
       "     PTRATIO       B  LSTAT  MEDV  \n",
       "501     21.0  391.99   9.67  22.4  \n",
       "502     21.0  396.90   9.08  20.6  \n",
       "503     21.0  396.90   5.64  23.9  \n",
       "504     21.0  393.45   6.48  22.0  \n",
       "505     21.0  396.90   7.88  11.9  "
      ]
     },
     "execution_count": 3,
     "metadata": {},
     "output_type": "execute_result"
    }
   ],
   "source": [
    "dataset.tail()"
   ]
  },
  {
   "cell_type": "code",
   "execution_count": 4,
   "id": "164ba7a9-c52d-4b78-b2d3-9db391f3dd3f",
   "metadata": {},
   "outputs": [
    {
     "data": {
      "text/plain": [
       "(506, 14)"
      ]
     },
     "execution_count": 4,
     "metadata": {},
     "output_type": "execute_result"
    }
   ],
   "source": [
    "dataset.shape"
   ]
  },
  {
   "cell_type": "markdown",
   "id": "eea2baac-4bb3-41c5-86b1-a340a3a2f91a",
   "metadata": {},
   "source": [
    "### Dataset description\n",
    "\n",
    "Number of Instances: 506 \n",
    "\n",
    "Number of Attributes: 13 numeric/categorical predictive. Median Value (attribute 14) is usually the target.\n",
    "\n",
    "Attribute Information:\n",
    "\n",
    "|Feature|Description|\n",
    "|---|---| \n",
    "|CRIM |     per capita crime rate by town| \n",
    "|          ZN  |      proportion of residential land zoned for lots over 25,000 sq.ft.| \n",
    "|          INDUS |    proportion of non-retail business acres per town| \n",
    "|          CHAS  |    Charles River dummy variable (= 1 if tract bounds river; 0 otherwise)| \n",
    "|           NOX  |     nitric oxides concentration (parts per 10 million)| \n",
    "|           RM  |      average number of rooms per dwelling| \n",
    "|           AGE  |     proportion of owner-occupied units built prior to 1940| \n",
    "|           DIS  |     weighted distances to five Boston employment centres| \n",
    "|           RAD |      index of accessibility to radial highways| \n",
    "|          TAX  |     full-value property-tax rate per 10000 USD | \n",
    "|          PTRATIO|   pupil-teacher ratio by town| \n",
    "|           B    |     1000(Bk - 0.63)^2 where Bk is the proportion of black people by town| \n",
    "|           LSTAT |    % lower status of the population| \n",
    "|           MEDV  |    Median value of owner-occupied homes in $1000's| \n",
    "\n",
    "\n"
   ]
  },
  {
   "cell_type": "markdown",
   "id": "9c41a71a-d2f0-40f1-b276-ab7c96f9a5d7",
   "metadata": {},
   "source": [
    "## División train y test"
   ]
  },
  {
   "cell_type": "code",
   "execution_count": 5,
   "id": "6a84bafa-bffa-43e7-913a-57c5017bf8ef",
   "metadata": {},
   "outputs": [],
   "source": [
    "train_dataset = dataset.sample(frac=0.8, random_state=0)\n",
    "test_dataset = dataset.drop(train_dataset.index)"
   ]
  },
  {
   "cell_type": "code",
   "execution_count": 6,
   "id": "5c4a88ae-14a8-4531-aede-a8ef3064011c",
   "metadata": {},
   "outputs": [
    {
     "data": {
      "text/plain": [
       "(405, 14)"
      ]
     },
     "execution_count": 6,
     "metadata": {},
     "output_type": "execute_result"
    }
   ],
   "source": [
    "train_dataset.shape"
   ]
  },
  {
   "cell_type": "code",
   "execution_count": 7,
   "id": "c8d14b88-924a-4fb6-9b67-ca458ffa564f",
   "metadata": {},
   "outputs": [
    {
     "data": {
      "text/plain": [
       "(101, 14)"
      ]
     },
     "execution_count": 7,
     "metadata": {},
     "output_type": "execute_result"
    }
   ],
   "source": [
    "test_dataset.shape"
   ]
  },
  {
   "cell_type": "markdown",
   "id": "e3a710c0-e138-455d-b18b-3a01b5d825bf",
   "metadata": {},
   "source": [
    "# Data exploration"
   ]
  },
  {
   "cell_type": "code",
   "execution_count": 8,
   "id": "3710e02b-2f6f-4f68-a932-e5487ba97e9b",
   "metadata": {},
   "outputs": [],
   "source": [
    "import seaborn as sns"
   ]
  },
  {
   "cell_type": "code",
   "execution_count": null,
   "id": "ca23f09b-5746-427c-aca6-0bf17da0276b",
   "metadata": {},
   "outputs": [],
   "source": [
    "sns.pairplot(train_dataset, diag_kind='kde')"
   ]
  },
  {
   "cell_type": "code",
   "execution_count": null,
   "id": "b5cadae6-2160-4a31-9efb-0e6e84489dd8",
   "metadata": {},
   "outputs": [],
   "source": [
    "train_dataset.describe().transpose()"
   ]
  },
  {
   "cell_type": "code",
   "execution_count": 9,
   "id": "5c89c278-ee5a-44e7-9f14-1d570db89fb3",
   "metadata": {},
   "outputs": [
    {
     "data": {
      "text/plain": [
       "<AxesSubplot:>"
      ]
     },
     "execution_count": 9,
     "metadata": {},
     "output_type": "execute_result"
    },
    {
     "data": {
      "image/png": "[encoded data removed]",
      "text/plain": [
       "<Figure size 864x720 with 2 Axes>"
      ]
     },
     "metadata": {
      "needs_background": "light"
     },
     "output_type": "display_data"
    }
   ],
   "source": [
    "fig, ax = plt.subplots(figsize=(12,10))\n",
    "sns.heatmap(train_dataset.corr(), annot=True, ax=ax) "
   ]
  },
  {
   "cell_type": "markdown",
   "id": "9719e760-f2af-46d0-acdb-9aa401d34d6e",
   "metadata": {},
   "source": [
    "# Data preprocessing"
   ]
  },
  {
   "cell_type": "markdown",
   "id": "659cc3fd-4f8d-4f56-ab69-4b474de057b5",
   "metadata": {},
   "source": [
    "- Separar la etiqueta o valor a predecir de las features."
   ]
  },
  {
   "cell_type": "code",
   "execution_count": 10,
   "id": "1a4f3155-93b8-42fa-934b-00f5cc228e33",
   "metadata": {},
   "outputs": [],
   "source": [
    "train_features = train_dataset.copy()\n",
    "test_features = test_dataset.copy()\n",
    "\n",
    "train_labels = train_features.pop('MEDV')\n",
    "test_labels = test_features.pop('MEDV')"
   ]
  },
  {
   "cell_type": "markdown",
   "id": "4fb53002-29c8-484e-b080-999a875b9dd3",
   "metadata": {},
   "source": [
    "Normalization"
   ]
  },
  {
   "cell_type": "code",
   "execution_count": 11,
   "id": "001cbdda-2e4a-4b60-9ecd-0bcd53b9d811",
   "metadata": {},
   "outputs": [
    {
     "data": {
      "text/html": [
       "<div>\n",
       "<style scoped>\n",
       "    .dataframe tbody tr th:only-of-type {\n",
       "        vertical-align: middle;\n",
       "    }\n",
       "\n",
       "    .dataframe tbody tr th {\n",
       "        vertical-align: top;\n",
       "    }\n",
       "\n",
       "    .dataframe thead th {\n",
       "        text-align: right;\n",
       "    }\n",
       "</style>\n",
       "<table border=\"1\" class=\"dataframe\">\n",
       "  <thead>\n",
       "    <tr style=\"text-align: right;\">\n",
       "      <th></th>\n",
       "      <th>mean</th>\n",
       "      <th>std</th>\n",
       "    </tr>\n",
       "  </thead>\n",
       "  <tbody>\n",
       "    <tr>\n",
       "      <th>CRIM</th>\n",
       "      <td>3.670339</td>\n",
       "      <td>8.977954</td>\n",
       "    </tr>\n",
       "    <tr>\n",
       "      <th>ZN</th>\n",
       "      <td>11.067901</td>\n",
       "      <td>22.688396</td>\n",
       "    </tr>\n",
       "    <tr>\n",
       "      <th>INDUS</th>\n",
       "      <td>11.097951</td>\n",
       "      <td>6.699157</td>\n",
       "    </tr>\n",
       "    <tr>\n",
       "      <th>CHAS</th>\n",
       "      <td>0.069136</td>\n",
       "      <td>0.253999</td>\n",
       "    </tr>\n",
       "    <tr>\n",
       "      <th>NOX</th>\n",
       "      <td>0.553098</td>\n",
       "      <td>0.115564</td>\n",
       "    </tr>\n",
       "    <tr>\n",
       "      <th>RM</th>\n",
       "      <td>6.269768</td>\n",
       "      <td>0.690552</td>\n",
       "    </tr>\n",
       "    <tr>\n",
       "      <th>AGE</th>\n",
       "      <td>68.241975</td>\n",
       "      <td>27.908527</td>\n",
       "    </tr>\n",
       "    <tr>\n",
       "      <th>DIS</th>\n",
       "      <td>3.834098</td>\n",
       "      <td>2.162173</td>\n",
       "    </tr>\n",
       "    <tr>\n",
       "      <th>RAD</th>\n",
       "      <td>9.474074</td>\n",
       "      <td>8.618564</td>\n",
       "    </tr>\n",
       "    <tr>\n",
       "      <th>TAX</th>\n",
       "      <td>405.839506</td>\n",
       "      <td>164.057951</td>\n",
       "    </tr>\n",
       "    <tr>\n",
       "      <th>PTRATIO</th>\n",
       "      <td>18.437037</td>\n",
       "      <td>2.141275</td>\n",
       "    </tr>\n",
       "    <tr>\n",
       "      <th>B</th>\n",
       "      <td>356.276444</td>\n",
       "      <td>91.298597</td>\n",
       "    </tr>\n",
       "    <tr>\n",
       "      <th>LSTAT</th>\n",
       "      <td>12.638914</td>\n",
       "      <td>7.090281</td>\n",
       "    </tr>\n",
       "    <tr>\n",
       "      <th>MEDV</th>\n",
       "      <td>22.476543</td>\n",
       "      <td>8.938482</td>\n",
       "    </tr>\n",
       "  </tbody>\n",
       "</table>\n",
       "</div>"
      ],
      "text/plain": [
       "               mean         std\n",
       "CRIM       3.670339    8.977954\n",
       "ZN        11.067901   22.688396\n",
       "INDUS     11.097951    6.699157\n",
       "CHAS       0.069136    0.253999\n",
       "NOX        0.553098    0.115564\n",
       "RM         6.269768    0.690552\n",
       "AGE       68.241975   27.908527\n",
       "DIS        3.834098    2.162173\n",
       "RAD        9.474074    8.618564\n",
       "TAX      405.839506  164.057951\n",
       "PTRATIO   18.437037    2.141275\n",
       "B        356.276444   91.298597\n",
       "LSTAT     12.638914    7.090281\n",
       "MEDV      22.476543    8.938482"
      ]
     },
     "execution_count": 11,
     "metadata": {},
     "output_type": "execute_result"
    }
   ],
   "source": [
    "train_dataset.describe().transpose()[['mean', 'std']]"
   ]
  },
  {
   "cell_type": "markdown",
   "id": "25e2e13b-46e5-4106-b0b4-76c0bfba83f2",
   "metadata": {},
   "source": [
    "- Es una buena práctica normalizar las features para que esten todas en el mismo rango."
   ]
  },
  {
   "cell_type": "code",
   "execution_count": 12,
   "id": "5b39dfe1-7264-44af-983e-5abb0e52c445",
   "metadata": {},
   "outputs": [],
   "source": [
    "train_mean = train_features.mean()\n",
    "train_std = train_features.std()\n",
    "\n",
    "train_features = (train_features - train_mean) / train_std\n",
    "test_features = (test_features - train_mean) / train_std"
   ]
  },
  {
   "cell_type": "code",
   "execution_count": 13,
   "id": "d5b7f72b-42cf-4841-ad64-eb51fdaa351d",
   "metadata": {},
   "outputs": [
    {
     "data": {
      "text/html": [
       "<div>\n",
       "<style scoped>\n",
       "    .dataframe tbody tr th:only-of-type {\n",
       "        vertical-align: middle;\n",
       "    }\n",
       "\n",
       "    .dataframe tbody tr th {\n",
       "        vertical-align: top;\n",
       "    }\n",
       "\n",
       "    .dataframe thead th {\n",
       "        text-align: right;\n",
       "    }\n",
       "</style>\n",
       "<table border=\"1\" class=\"dataframe\">\n",
       "  <thead>\n",
       "    <tr style=\"text-align: right;\">\n",
       "      <th></th>\n",
       "      <th>mean</th>\n",
       "      <th>std</th>\n",
       "    </tr>\n",
       "  </thead>\n",
       "  <tbody>\n",
       "    <tr>\n",
       "      <th>CRIM</th>\n",
       "      <td>3.947460e-17</td>\n",
       "      <td>1.0</td>\n",
       "    </tr>\n",
       "    <tr>\n",
       "      <th>ZN</th>\n",
       "      <td>-6.579099e-17</td>\n",
       "      <td>1.0</td>\n",
       "    </tr>\n",
       "    <tr>\n",
       "      <th>INDUS</th>\n",
       "      <td>-3.728156e-17</td>\n",
       "      <td>1.0</td>\n",
       "    </tr>\n",
       "    <tr>\n",
       "      <th>CHAS</th>\n",
       "      <td>5.153628e-17</td>\n",
       "      <td>1.0</td>\n",
       "    </tr>\n",
       "    <tr>\n",
       "      <th>NOX</th>\n",
       "      <td>-1.688636e-16</td>\n",
       "      <td>1.0</td>\n",
       "    </tr>\n",
       "    <tr>\n",
       "      <th>RM</th>\n",
       "      <td>2.324615e-16</td>\n",
       "      <td>1.0</td>\n",
       "    </tr>\n",
       "    <tr>\n",
       "      <th>AGE</th>\n",
       "      <td>2.456197e-16</td>\n",
       "      <td>1.0</td>\n",
       "    </tr>\n",
       "    <tr>\n",
       "      <th>DIS</th>\n",
       "      <td>-3.443062e-16</td>\n",
       "      <td>1.0</td>\n",
       "    </tr>\n",
       "    <tr>\n",
       "      <th>RAD</th>\n",
       "      <td>-1.052656e-16</td>\n",
       "      <td>1.0</td>\n",
       "    </tr>\n",
       "    <tr>\n",
       "      <th>TAX</th>\n",
       "      <td>1.008795e-16</td>\n",
       "      <td>1.0</td>\n",
       "    </tr>\n",
       "    <tr>\n",
       "      <th>PTRATIO</th>\n",
       "      <td>1.683153e-15</td>\n",
       "      <td>1.0</td>\n",
       "    </tr>\n",
       "    <tr>\n",
       "      <th>B</th>\n",
       "      <td>-7.412452e-16</td>\n",
       "      <td>1.0</td>\n",
       "    </tr>\n",
       "    <tr>\n",
       "      <th>LSTAT</th>\n",
       "      <td>-9.649346e-17</td>\n",
       "      <td>1.0</td>\n",
       "    </tr>\n",
       "  </tbody>\n",
       "</table>\n",
       "</div>"
      ],
      "text/plain": [
       "                 mean  std\n",
       "CRIM     3.947460e-17  1.0\n",
       "ZN      -6.579099e-17  1.0\n",
       "INDUS   -3.728156e-17  1.0\n",
       "CHAS     5.153628e-17  1.0\n",
       "NOX     -1.688636e-16  1.0\n",
       "RM       2.324615e-16  1.0\n",
       "AGE      2.456197e-16  1.0\n",
       "DIS     -3.443062e-16  1.0\n",
       "RAD     -1.052656e-16  1.0\n",
       "TAX      1.008795e-16  1.0\n",
       "PTRATIO  1.683153e-15  1.0\n",
       "B       -7.412452e-16  1.0\n",
       "LSTAT   -9.649346e-17  1.0"
      ]
     },
     "execution_count": 13,
     "metadata": {},
     "output_type": "execute_result"
    }
   ],
   "source": [
    "train_features.describe().transpose()[['mean', 'std']]"
   ]
  },
  {
   "cell_type": "markdown",
   "id": "11662d50-2ffa-42aa-9ee7-fd51d9da0f1f",
   "metadata": {},
   "source": [
    "# Linear regression con una feature"
   ]
  },
  {
   "cell_type": "code",
   "execution_count": 14,
   "id": "54a5529c-b0bb-45af-8264-ae328e1a29e1",
   "metadata": {},
   "outputs": [],
   "source": [
    "linear_one_model = tf.keras.Sequential([\n",
    "    tf.keras.layers.Dense(units=1, input_dim=1)\n",
    "])"
   ]
  },
  {
   "cell_type": "code",
   "execution_count": 15,
   "id": "f03e0a1a-44c2-4fac-a7f5-8e72f6b75b37",
   "metadata": {},
   "outputs": [
    {
     "name": "stdout",
     "output_type": "stream",
     "text": [
      "Model: \"sequential\"\n",
      "_________________________________________________________________\n",
      "Layer (type)                 Output Shape              Param #   \n",
      "=================================================================\n",
      "dense (Dense)                (None, 1)                 2         \n",
      "=================================================================\n",
      "Total params: 2\n",
      "Trainable params: 2\n",
      "Non-trainable params: 0\n",
      "_________________________________________________________________\n"
     ]
    }
   ],
   "source": [
    "linear_one_model.summary()"
   ]
  },
  {
   "cell_type": "code",
   "execution_count": 16,
   "id": "d33b5cbe-d4fc-407a-a4c9-1f4d9d3e1c20",
   "metadata": {},
   "outputs": [],
   "source": [
    "linear_one_model.compile(\n",
    "    optimizer=tf.optimizers.Adam(learning_rate=0.1),\n",
    "    loss='mean_absolute_error')"
   ]
  },
  {
   "cell_type": "code",
   "execution_count": 17,
   "id": "87d80713-7a87-4601-8fb2-39cd8f0d7a12",
   "metadata": {
    "collapsed": true,
    "jupyter": {
     "outputs_hidden": true
    },
    "tags": []
   },
   "outputs": [
    {
     "name": "stdout",
     "output_type": "stream",
     "text": [
      "Epoch 1/100\n",
      "11/11 [==============================] - 2s 172ms/step - loss: 21.5958 - val_loss: 22.4491\n",
      "Epoch 2/100\n",
      "11/11 [==============================] - 0s 10ms/step - loss: 20.6898 - val_loss: 21.3753\n",
      "Epoch 3/100\n",
      "11/11 [==============================] - 0s 11ms/step - loss: 19.6270 - val_loss: 20.3162\n",
      "Epoch 4/100\n",
      "11/11 [==============================] - 0s 9ms/step - loss: 19.1083 - val_loss: 19.2378\n",
      "Epoch 5/100\n",
      "11/11 [==============================] - 0s 10ms/step - loss: 18.4683 - val_loss: 18.1565\n",
      "Epoch 6/100\n",
      "11/11 [==============================] - 0s 11ms/step - loss: 16.8504 - val_loss: 17.0747\n",
      "Epoch 7/100\n",
      "11/11 [==============================] - 0s 11ms/step - loss: 15.3889 - val_loss: 15.9837\n",
      "Epoch 8/100\n",
      "11/11 [==============================] - 0s 10ms/step - loss: 13.7542 - val_loss: 14.8765\n",
      "Epoch 9/100\n",
      "11/11 [==============================] - 0s 9ms/step - loss: 14.2061 - val_loss: 13.7808\n",
      "Epoch 10/100\n",
      "11/11 [==============================] - 0s 28ms/step - loss: 11.8531 - val_loss: 12.7242\n",
      "Epoch 11/100\n",
      "11/11 [==============================] - 0s 14ms/step - loss: 11.6381 - val_loss: 11.6758\n",
      "Epoch 12/100\n",
      "11/11 [==============================] - 0s 16ms/step - loss: 9.9198 - val_loss: 10.6869\n",
      "Epoch 13/100\n",
      "11/11 [==============================] - 0s 17ms/step - loss: 9.5282 - val_loss: 9.6652\n",
      "Epoch 14/100\n",
      "11/11 [==============================] - 0s 13ms/step - loss: 8.2195 - val_loss: 8.6973\n",
      "Epoch 15/100\n",
      "11/11 [==============================] - 0s 11ms/step - loss: 7.3938 - val_loss: 7.7558\n",
      "Epoch 16/100\n",
      "11/11 [==============================] - 0s 9ms/step - loss: 6.7669 - val_loss: 6.9423\n",
      "Epoch 17/100\n",
      "11/11 [==============================] - 0s 11ms/step - loss: 5.3947 - val_loss: 6.2108\n",
      "Epoch 18/100\n",
      "11/11 [==============================] - 0s 9ms/step - loss: 4.8579 - val_loss: 5.6323\n",
      "Epoch 19/100\n",
      "11/11 [==============================] - 0s 10ms/step - loss: 3.9356 - val_loss: 5.2559\n",
      "Epoch 20/100\n",
      "11/11 [==============================] - 0s 9ms/step - loss: 3.9214 - val_loss: 5.0503\n",
      "Epoch 21/100\n",
      "11/11 [==============================] - 0s 10ms/step - loss: 4.2173 - val_loss: 4.9430\n",
      "Epoch 22/100\n",
      "11/11 [==============================] - 0s 10ms/step - loss: 4.2805 - val_loss: 4.9261\n",
      "Epoch 23/100\n",
      "11/11 [==============================] - 0s 10ms/step - loss: 4.1086 - val_loss: 4.9029\n",
      "Epoch 24/100\n",
      "11/11 [==============================] - 0s 11ms/step - loss: 3.7103 - val_loss: 4.8717\n",
      "Epoch 25/100\n",
      "11/11 [==============================] - 0s 10ms/step - loss: 4.2489 - val_loss: 4.8566\n",
      "Epoch 26/100\n",
      "11/11 [==============================] - 0s 10ms/step - loss: 4.3733 - val_loss: 4.8550\n",
      "Epoch 27/100\n",
      "11/11 [==============================] - 0s 8ms/step - loss: 4.3840 - val_loss: 4.8212\n",
      "Epoch 28/100\n",
      "11/11 [==============================] - 0s 12ms/step - loss: 4.5456 - val_loss: 4.8125\n",
      "Epoch 29/100\n",
      "11/11 [==============================] - 0s 8ms/step - loss: 4.3490 - val_loss: 4.8272\n",
      "Epoch 30/100\n",
      "11/11 [==============================] - 0s 8ms/step - loss: 4.4086 - val_loss: 4.8478\n",
      "Epoch 31/100\n",
      "11/11 [==============================] - 0s 8ms/step - loss: 4.5071 - val_loss: 4.8420\n",
      "Epoch 32/100\n",
      "11/11 [==============================] - 0s 9ms/step - loss: 3.8785 - val_loss: 4.8382\n",
      "Epoch 33/100\n",
      "11/11 [==============================] - 0s 9ms/step - loss: 4.2281 - val_loss: 4.8486\n",
      "Epoch 34/100\n",
      "11/11 [==============================] - 0s 13ms/step - loss: 3.8642 - val_loss: 4.8329\n",
      "Epoch 35/100\n",
      "11/11 [==============================] - 0s 8ms/step - loss: 4.3513 - val_loss: 4.8337\n",
      "Epoch 36/100\n",
      "11/11 [==============================] - 0s 8ms/step - loss: 3.9666 - val_loss: 4.8376\n",
      "Epoch 37/100\n",
      "11/11 [==============================] - 0s 7ms/step - loss: 4.4159 - val_loss: 4.8327\n",
      "Epoch 38/100\n",
      "11/11 [==============================] - 0s 7ms/step - loss: 4.2341 - val_loss: 4.8333\n",
      "Epoch 39/100\n",
      "11/11 [==============================] - 0s 7ms/step - loss: 4.0221 - val_loss: 4.8378\n",
      "Epoch 40/100\n",
      "11/11 [==============================] - 0s 8ms/step - loss: 4.2290 - val_loss: 4.8414\n",
      "Epoch 41/100\n",
      "11/11 [==============================] - 0s 9ms/step - loss: 3.9908 - val_loss: 4.8286\n",
      "Epoch 42/100\n",
      "11/11 [==============================] - 0s 7ms/step - loss: 4.2482 - val_loss: 4.8326\n",
      "Epoch 43/100\n",
      "11/11 [==============================] - 0s 7ms/step - loss: 4.1961 - val_loss: 4.8230\n",
      "Epoch 44/100\n",
      "11/11 [==============================] - 0s 20ms/step - loss: 4.1714 - val_loss: 4.8256\n",
      "Epoch 45/100\n",
      "11/11 [==============================] - 0s 9ms/step - loss: 4.5160 - val_loss: 4.8157\n",
      "Epoch 46/100\n",
      "11/11 [==============================] - 0s 9ms/step - loss: 4.2139 - val_loss: 4.8152\n",
      "Epoch 47/100\n",
      "11/11 [==============================] - 0s 11ms/step - loss: 4.1153 - val_loss: 4.8182\n",
      "Epoch 48/100\n",
      "11/11 [==============================] - 0s 9ms/step - loss: 4.4534 - val_loss: 4.8027\n",
      "Epoch 49/100\n",
      "11/11 [==============================] - 0s 8ms/step - loss: 4.2958 - val_loss: 4.8140\n",
      "Epoch 50/100\n",
      "11/11 [==============================] - 0s 12ms/step - loss: 4.3585 - val_loss: 4.8315\n",
      "Epoch 51/100\n",
      "11/11 [==============================] - 0s 15ms/step - loss: 4.1589 - val_loss: 4.8077\n",
      "Epoch 52/100\n",
      "11/11 [==============================] - 0s 14ms/step - loss: 4.1146 - val_loss: 4.8163\n",
      "Epoch 53/100\n",
      "11/11 [==============================] - 0s 16ms/step - loss: 3.8584 - val_loss: 4.7996\n",
      "Epoch 54/100\n",
      "11/11 [==============================] - 0s 18ms/step - loss: 4.1624 - val_loss: 4.8043\n",
      "Epoch 55/100\n",
      "11/11 [==============================] - 0s 12ms/step - loss: 4.3417 - val_loss: 4.8233\n",
      "Epoch 56/100\n",
      "11/11 [==============================] - 0s 10ms/step - loss: 4.3949 - val_loss: 4.8277\n",
      "Epoch 57/100\n",
      "11/11 [==============================] - 0s 15ms/step - loss: 3.9677 - val_loss: 4.8461\n",
      "Epoch 58/100\n",
      "11/11 [==============================] - 0s 14ms/step - loss: 3.9384 - val_loss: 4.8167\n",
      "Epoch 59/100\n",
      "11/11 [==============================] - 0s 16ms/step - loss: 4.2012 - val_loss: 4.8091\n",
      "Epoch 60/100\n",
      "11/11 [==============================] - 0s 16ms/step - loss: 4.0211 - val_loss: 4.7963\n",
      "Epoch 61/100\n",
      "11/11 [==============================] - 0s 16ms/step - loss: 4.5027 - val_loss: 4.8082\n",
      "Epoch 62/100\n",
      "11/11 [==============================] - 0s 15ms/step - loss: 3.8396 - val_loss: 4.8163\n",
      "Epoch 63/100\n",
      "11/11 [==============================] - 0s 12ms/step - loss: 4.4695 - val_loss: 4.8411\n",
      "Epoch 64/100\n",
      "11/11 [==============================] - 0s 10ms/step - loss: 3.9210 - val_loss: 4.8498\n",
      "Epoch 65/100\n",
      "11/11 [==============================] - 0s 8ms/step - loss: 4.3345 - val_loss: 4.8389\n",
      "Epoch 66/100\n",
      "11/11 [==============================] - 0s 10ms/step - loss: 4.3750 - val_loss: 4.8353\n",
      "Epoch 67/100\n",
      "11/11 [==============================] - 0s 10ms/step - loss: 3.9202 - val_loss: 4.8182\n",
      "Epoch 68/100\n",
      "11/11 [==============================] - 0s 11ms/step - loss: 4.5769 - val_loss: 4.8370\n",
      "Epoch 69/100\n",
      "11/11 [==============================] - 0s 11ms/step - loss: 4.3775 - val_loss: 4.8523\n",
      "Epoch 70/100\n",
      "11/11 [==============================] - 0s 10ms/step - loss: 4.1326 - val_loss: 4.8460\n",
      "Epoch 71/100\n",
      "11/11 [==============================] - 0s 10ms/step - loss: 4.3051 - val_loss: 4.8241\n",
      "Epoch 72/100\n",
      "11/11 [==============================] - 0s 8ms/step - loss: 4.5248 - val_loss: 4.8132\n",
      "Epoch 73/100\n",
      "11/11 [==============================] - 0s 10ms/step - loss: 3.7279 - val_loss: 4.7996\n",
      "Epoch 74/100\n",
      "11/11 [==============================] - 0s 8ms/step - loss: 4.0874 - val_loss: 4.8021\n",
      "Epoch 75/100\n",
      "11/11 [==============================] - 0s 7ms/step - loss: 3.9925 - val_loss: 4.7931\n",
      "Epoch 76/100\n",
      "11/11 [==============================] - 0s 7ms/step - loss: 4.2416 - val_loss: 4.8099\n",
      "Epoch 77/100\n",
      "11/11 [==============================] - 0s 7ms/step - loss: 3.8310 - val_loss: 4.8017\n",
      "Epoch 78/100\n",
      "11/11 [==============================] - 0s 7ms/step - loss: 4.2358 - val_loss: 4.8160\n",
      "Epoch 79/100\n",
      "11/11 [==============================] - 0s 8ms/step - loss: 4.3424 - val_loss: 4.8289\n",
      "Epoch 80/100\n",
      "11/11 [==============================] - 0s 9ms/step - loss: 4.5788 - val_loss: 4.8310\n",
      "Epoch 81/100\n",
      "11/11 [==============================] - 0s 7ms/step - loss: 3.7997 - val_loss: 4.8221\n",
      "Epoch 82/100\n",
      "11/11 [==============================] - 0s 7ms/step - loss: 4.3732 - val_loss: 4.8283\n",
      "Epoch 83/100\n",
      "11/11 [==============================] - 0s 8ms/step - loss: 4.3944 - val_loss: 4.8227\n",
      "Epoch 84/100\n",
      "11/11 [==============================] - 0s 10ms/step - loss: 3.8446 - val_loss: 4.8095\n",
      "Epoch 85/100\n",
      "11/11 [==============================] - 0s 9ms/step - loss: 4.1571 - val_loss: 4.8029\n",
      "Epoch 86/100\n",
      "11/11 [==============================] - 0s 27ms/step - loss: 4.1909 - val_loss: 4.8156\n",
      "Epoch 87/100\n",
      "11/11 [==============================] - 0s 15ms/step - loss: 4.1600 - val_loss: 4.8228\n",
      "Epoch 88/100\n",
      "11/11 [==============================] - 0s 15ms/step - loss: 4.2901 - val_loss: 4.7918\n",
      "Epoch 89/100\n",
      "11/11 [==============================] - 0s 14ms/step - loss: 4.0522 - val_loss: 4.7854\n",
      "Epoch 90/100\n",
      "11/11 [==============================] - 0s 12ms/step - loss: 4.3942 - val_loss: 4.7950\n",
      "Epoch 91/100\n",
      "11/11 [==============================] - 0s 12ms/step - loss: 4.1331 - val_loss: 4.7900\n",
      "Epoch 92/100\n",
      "11/11 [==============================] - 0s 15ms/step - loss: 4.1997 - val_loss: 4.8249\n",
      "Epoch 93/100\n",
      "11/11 [==============================] - 0s 14ms/step - loss: 3.8246 - val_loss: 4.8285\n",
      "Epoch 94/100\n",
      "11/11 [==============================] - 0s 10ms/step - loss: 4.1407 - val_loss: 4.8067\n",
      "Epoch 95/100\n",
      "11/11 [==============================] - 0s 10ms/step - loss: 4.1650 - val_loss: 4.8019\n",
      "Epoch 96/100\n",
      "11/11 [==============================] - 0s 15ms/step - loss: 4.0158 - val_loss: 4.7951\n",
      "Epoch 97/100\n",
      "11/11 [==============================] - 0s 16ms/step - loss: 4.3277 - val_loss: 4.8057\n",
      "Epoch 98/100\n",
      "11/11 [==============================] - 0s 11ms/step - loss: 4.2244 - val_loss: 4.7958\n",
      "Epoch 99/100\n",
      "11/11 [==============================] - 0s 14ms/step - loss: 4.0440 - val_loss: 4.8025\n",
      "Epoch 100/100\n",
      "11/11 [==============================] - 0s 22ms/step - loss: 4.1928 - val_loss: 4.8032\n"
     ]
    }
   ],
   "source": [
    "history = linear_one_model.fit(\n",
    "    train_features['LSTAT'], train_labels,\n",
    "    callbacks=[tf.keras.callbacks.TensorBoard(log_dir='tutorial_regresion/linear_one_model', histogram_freq=1)],\n",
    "    epochs=100,\n",
    "    validation_split = 0.2)"
   ]
  },
  {
   "cell_type": "code",
   "execution_count": 18,
   "id": "f51376b2-8f68-4219-9928-63c07c8783f0",
   "metadata": {},
   "outputs": [
    {
     "data": {
      "text/plain": [
       "<AxesSubplot:xlabel='epoch'>"
      ]
     },
     "execution_count": 18,
     "metadata": {},
     "output_type": "execute_result"
    },
    {
     "data": {
      "image/png": "[encoded data removed]",
      "text/plain": [
       "<Figure size 432x288 with 1 Axes>"
      ]
     },
     "metadata": {
      "needs_background": "light"
     },
     "output_type": "display_data"
    }
   ],
   "source": [
    "hist = pd.DataFrame(history.history)\n",
    "hist['epoch'] = history.epoch\n",
    "hist = hist.set_index('epoch')\n",
    "hist.plot(grid=True)"
   ]
  },
  {
   "cell_type": "code",
   "execution_count": 19,
   "id": "cca96339-cab6-4665-8719-5de8475f8539",
   "metadata": {},
   "outputs": [],
   "source": [
    "x = tf.linspace(train_features['LSTAT'].min(), train_features['LSTAT'].max(), 100)\n",
    "y = linear_one_model.predict(x)"
   ]
  },
  {
   "cell_type": "code",
   "execution_count": 20,
   "id": "f235ce91-e1dc-4919-820c-91300ee2497a",
   "metadata": {},
   "outputs": [
    {
     "data": {
      "text/plain": [
       "<matplotlib.legend.Legend at 0x1561bcc50>"
      ]
     },
     "execution_count": 20,
     "metadata": {},
     "output_type": "execute_result"
    },
    {
     "data": {
      "image/png": "[encoded data removed]",
      "text/plain": [
       "<Figure size 432x288 with 1 Axes>"
      ]
     },
     "metadata": {
      "needs_background": "light"
     },
     "output_type": "display_data"
    }
   ],
   "source": [
    "plt.scatter(train_features['LSTAT'], train_labels, label='Data')\n",
    "plt.plot(x, y, color='k', label='Predictions')\n",
    "plt.xlabel('LSTAT')\n",
    "plt.ylabel('MEDV')\n",
    "plt.legend()"
   ]
  },
  {
   "cell_type": "code",
   "execution_count": 21,
   "id": "ae428986-33b6-4b1f-abe0-4c3e34e76362",
   "metadata": {},
   "outputs": [
    {
     "data": {
      "text/plain": [
       "[<tf.Variable 'dense/kernel:0' shape=(1, 1) dtype=float32, numpy=array([[-5.545611]], dtype=float32)>,\n",
       " <tf.Variable 'dense/bias:0' shape=(1,) dtype=float32, numpy=array([21.097363], dtype=float32)>]"
      ]
     },
     "execution_count": 21,
     "metadata": {},
     "output_type": "execute_result"
    }
   ],
   "source": [
    "linear_one_model.weights"
   ]
  },
  {
   "cell_type": "code",
   "execution_count": 22,
   "id": "f2b3f12f-19cb-4be8-ae1b-61f143be82a7",
   "metadata": {},
   "outputs": [],
   "source": [
    "test_results = pd.DataFrame(columns=['train', 'test'])"
   ]
  },
  {
   "cell_type": "code",
   "execution_count": 23,
   "id": "f1944770-d198-40b6-8e00-90575fc83c2c",
   "metadata": {},
   "outputs": [],
   "source": [
    "test_results.loc['linear_one_model','test'] = linear_one_model.evaluate(\n",
    "    test_features['LSTAT'], test_labels, verbose=0\n",
    ")\n",
    "test_results.loc['linear_one_model','train'] = linear_one_model.evaluate(\n",
    "    train_features['LSTAT'], train_labels, verbose=0\n",
    ")"
   ]
  },
  {
   "cell_type": "code",
   "execution_count": 24,
   "id": "ced24309-6a38-49c5-8273-7a8ec1cce39f",
   "metadata": {},
   "outputs": [
    {
     "data": {
      "text/html": [
       "<div>\n",
       "<style scoped>\n",
       "    .dataframe tbody tr th:only-of-type {\n",
       "        vertical-align: middle;\n",
       "    }\n",
       "\n",
       "    .dataframe tbody tr th {\n",
       "        vertical-align: top;\n",
       "    }\n",
       "\n",
       "    .dataframe thead th {\n",
       "        text-align: right;\n",
       "    }\n",
       "</style>\n",
       "<table border=\"1\" class=\"dataframe\">\n",
       "  <thead>\n",
       "    <tr style=\"text-align: right;\">\n",
       "      <th></th>\n",
       "      <th>train</th>\n",
       "      <th>test</th>\n",
       "    </tr>\n",
       "  </thead>\n",
       "  <tbody>\n",
       "    <tr>\n",
       "      <th>linear_one_model</th>\n",
       "      <td>4.285994</td>\n",
       "      <td>4.238972</td>\n",
       "    </tr>\n",
       "  </tbody>\n",
       "</table>\n",
       "</div>"
      ],
      "text/plain": [
       "                     train      test\n",
       "linear_one_model  4.285994  4.238972"
      ]
     },
     "execution_count": 24,
     "metadata": {},
     "output_type": "execute_result"
    }
   ],
   "source": [
    "test_results"
   ]
  },
  {
   "cell_type": "markdown",
   "id": "e7a3d169-d41b-466c-8a9a-0917b1e4f87f",
   "metadata": {},
   "source": [
    "___"
   ]
  },
  {
   "cell_type": "markdown",
   "id": "4265789b-256d-4727-a8ff-2b0e07c45dca",
   "metadata": {},
   "source": [
    "## Lineal model con todas las features"
   ]
  },
  {
   "cell_type": "code",
   "execution_count": 25,
   "id": "2cc26db4-cced-4746-900b-1c1196fe5d62",
   "metadata": {},
   "outputs": [],
   "source": [
    "linear_model = tf.keras.Sequential([\n",
    "    tf.keras.layers.Dense(units=1, input_dim=train_features.shape[1])\n",
    "])"
   ]
  },
  {
   "cell_type": "code",
   "execution_count": 26,
   "id": "3dfb0428-1a2b-44b4-b756-2026597f9e2f",
   "metadata": {},
   "outputs": [
    {
     "name": "stdout",
     "output_type": "stream",
     "text": [
      "Model: \"sequential_1\"\n",
      "_________________________________________________________________\n",
      "Layer (type)                 Output Shape              Param #   \n",
      "=================================================================\n",
      "dense_1 (Dense)              (None, 1)                 14        \n",
      "=================================================================\n",
      "Total params: 14\n",
      "Trainable params: 14\n",
      "Non-trainable params: 0\n",
      "_________________________________________________________________\n"
     ]
    }
   ],
   "source": [
    "linear_model.summary()"
   ]
  },
  {
   "cell_type": "code",
   "execution_count": 27,
   "id": "3e3825c5-9df4-4442-ae18-376d7d578791",
   "metadata": {},
   "outputs": [],
   "source": [
    "linear_model.compile(\n",
    "    optimizer=tf.optimizers.Adam(learning_rate=0.1),\n",
    "    loss='mean_absolute_error'\n",
    ")"
   ]
  },
  {
   "cell_type": "code",
   "execution_count": 28,
   "id": "74c71ce6-538d-46d9-8078-146f37c5728d",
   "metadata": {
    "collapsed": true,
    "jupyter": {
     "outputs_hidden": true
    },
    "tags": []
   },
   "outputs": [
    {
     "name": "stdout",
     "output_type": "stream",
     "text": [
      "Epoch 1/100\n",
      "11/11 [==============================] - 1s 63ms/step - loss: 21.6725 - val_loss: 22.4646\n",
      "Epoch 2/100\n",
      "11/11 [==============================] - 0s 10ms/step - loss: 20.5206 - val_loss: 21.5173\n",
      "Epoch 3/100\n",
      "11/11 [==============================] - 0s 11ms/step - loss: 19.4412 - val_loss: 20.5448\n",
      "Epoch 4/100\n",
      "11/11 [==============================] - 0s 11ms/step - loss: 19.2653 - val_loss: 19.4721\n",
      "Epoch 5/100\n",
      "11/11 [==============================] - 0s 11ms/step - loss: 17.3025 - val_loss: 18.4482\n",
      "Epoch 6/100\n",
      "11/11 [==============================] - 0s 10ms/step - loss: 16.4681 - val_loss: 17.4274\n",
      "Epoch 7/100\n",
      "11/11 [==============================] - 0s 9ms/step - loss: 15.5163 - val_loss: 16.3753\n",
      "Epoch 8/100\n",
      "11/11 [==============================] - 0s 10ms/step - loss: 14.8832 - val_loss: 15.2288\n",
      "Epoch 9/100\n",
      "11/11 [==============================] - 0s 10ms/step - loss: 13.1339 - val_loss: 14.1547\n",
      "Epoch 10/100\n",
      "11/11 [==============================] - 0s 10ms/step - loss: 12.7494 - val_loss: 13.0829\n",
      "Epoch 11/100\n",
      "11/11 [==============================] - 0s 22ms/step - loss: 11.3887 - val_loss: 11.9660\n",
      "Epoch 12/100\n",
      "11/11 [==============================] - 0s 9ms/step - loss: 9.6849 - val_loss: 10.8166\n",
      "Epoch 13/100\n",
      "11/11 [==============================] - 0s 13ms/step - loss: 8.6936 - val_loss: 9.7579\n",
      "Epoch 14/100\n",
      "11/11 [==============================] - 0s 18ms/step - loss: 7.9393 - val_loss: 8.7120\n",
      "Epoch 15/100\n",
      "11/11 [==============================] - 0s 13ms/step - loss: 7.1508 - val_loss: 7.7314\n",
      "Epoch 16/100\n",
      "11/11 [==============================] - 0s 9ms/step - loss: 6.1625 - val_loss: 6.7161\n",
      "Epoch 17/100\n",
      "11/11 [==============================] - 0s 9ms/step - loss: 5.3238 - val_loss: 5.8074\n",
      "Epoch 18/100\n",
      "11/11 [==============================] - 0s 9ms/step - loss: 4.9173 - val_loss: 5.0419\n",
      "Epoch 19/100\n",
      "11/11 [==============================] - 0s 10ms/step - loss: 4.2171 - val_loss: 4.6253\n",
      "Epoch 20/100\n",
      "11/11 [==============================] - 0s 15ms/step - loss: 3.6742 - val_loss: 4.3126\n",
      "Epoch 21/100\n",
      "11/11 [==============================] - 0s 10ms/step - loss: 3.5537 - val_loss: 4.0539\n",
      "Epoch 22/100\n",
      "11/11 [==============================] - 0s 10ms/step - loss: 3.3569 - val_loss: 3.8599\n",
      "Epoch 23/100\n",
      "11/11 [==============================] - 0s 13ms/step - loss: 3.1238 - val_loss: 3.5944\n",
      "Epoch 24/100\n",
      "11/11 [==============================] - 0s 10ms/step - loss: 3.1979 - val_loss: 3.7146\n",
      "Epoch 25/100\n",
      "11/11 [==============================] - 0s 10ms/step - loss: 3.1726 - val_loss: 3.7329\n",
      "Epoch 26/100\n",
      "11/11 [==============================] - 0s 9ms/step - loss: 3.1870 - val_loss: 3.7320\n",
      "Epoch 27/100\n",
      "11/11 [==============================] - 0s 11ms/step - loss: 3.2710 - val_loss: 3.7331\n",
      "Epoch 28/100\n",
      "11/11 [==============================] - 0s 13ms/step - loss: 3.4254 - val_loss: 3.7039\n",
      "Epoch 29/100\n",
      "11/11 [==============================] - 0s 17ms/step - loss: 3.0198 - val_loss: 3.6605\n",
      "Epoch 30/100\n",
      "11/11 [==============================] - 0s 18ms/step - loss: 3.2616 - val_loss: 3.9401\n",
      "Epoch 31/100\n",
      "11/11 [==============================] - 0s 14ms/step - loss: 3.1942 - val_loss: 3.8329\n",
      "Epoch 32/100\n",
      "11/11 [==============================] - 0s 14ms/step - loss: 3.3722 - val_loss: 3.6348\n",
      "Epoch 33/100\n",
      "11/11 [==============================] - 0s 10ms/step - loss: 3.2939 - val_loss: 3.8182\n",
      "Epoch 34/100\n",
      "11/11 [==============================] - 0s 9ms/step - loss: 3.0855 - val_loss: 3.6314\n",
      "Epoch 35/100\n",
      "11/11 [==============================] - 0s 9ms/step - loss: 3.0983 - val_loss: 3.7609\n",
      "Epoch 36/100\n",
      "11/11 [==============================] - 0s 10ms/step - loss: 3.0745 - val_loss: 3.6998\n",
      "Epoch 37/100\n",
      "11/11 [==============================] - 0s 9ms/step - loss: 3.0397 - val_loss: 3.6475\n",
      "Epoch 38/100\n",
      "11/11 [==============================] - 0s 10ms/step - loss: 3.0238 - val_loss: 3.7941\n",
      "Epoch 39/100\n",
      "11/11 [==============================] - 0s 11ms/step - loss: 3.1416 - val_loss: 3.7139\n",
      "Epoch 40/100\n",
      "11/11 [==============================] - 0s 9ms/step - loss: 2.7036 - val_loss: 3.6675\n",
      "Epoch 41/100\n",
      "11/11 [==============================] - 0s 11ms/step - loss: 2.8577 - val_loss: 3.6718\n",
      "Epoch 42/100\n",
      "11/11 [==============================] - 0s 10ms/step - loss: 3.0860 - val_loss: 3.6505\n",
      "Epoch 43/100\n",
      "11/11 [==============================] - 0s 10ms/step - loss: 3.1650 - val_loss: 3.6441\n",
      "Epoch 44/100\n",
      "11/11 [==============================] - 0s 10ms/step - loss: 3.1106 - val_loss: 3.8305\n",
      "Epoch 45/100\n",
      "11/11 [==============================] - 0s 11ms/step - loss: 3.0982 - val_loss: 3.7134\n",
      "Epoch 46/100\n",
      "11/11 [==============================] - 0s 8ms/step - loss: 3.0482 - val_loss: 3.6529\n",
      "Epoch 47/100\n",
      "11/11 [==============================] - 0s 9ms/step - loss: 2.8508 - val_loss: 3.6542\n",
      "Epoch 48/100\n",
      "11/11 [==============================] - 0s 9ms/step - loss: 3.2260 - val_loss: 3.6925\n",
      "Epoch 49/100\n",
      "11/11 [==============================] - 0s 9ms/step - loss: 3.2671 - val_loss: 3.7079\n",
      "Epoch 50/100\n",
      "11/11 [==============================] - 0s 9ms/step - loss: 3.1115 - val_loss: 3.7174\n",
      "Epoch 51/100\n",
      "11/11 [==============================] - 0s 10ms/step - loss: 3.1618 - val_loss: 3.6541\n",
      "Epoch 52/100\n",
      "11/11 [==============================] - 0s 8ms/step - loss: 2.9350 - val_loss: 3.6662\n",
      "Epoch 53/100\n",
      "11/11 [==============================] - 0s 8ms/step - loss: 2.7170 - val_loss: 3.6602\n",
      "Epoch 54/100\n",
      "11/11 [==============================] - 0s 9ms/step - loss: 3.2417 - val_loss: 3.8788\n",
      "Epoch 55/100\n",
      "11/11 [==============================] - 0s 20ms/step - loss: 2.8720 - val_loss: 3.7201\n",
      "Epoch 56/100\n",
      "11/11 [==============================] - 0s 9ms/step - loss: 3.3891 - val_loss: 3.7761\n",
      "Epoch 57/100\n",
      "11/11 [==============================] - 0s 8ms/step - loss: 2.7987 - val_loss: 3.6801\n",
      "Epoch 58/100\n",
      "11/11 [==============================] - 0s 12ms/step - loss: 3.4110 - val_loss: 3.6706\n",
      "Epoch 59/100\n",
      "11/11 [==============================] - 0s 11ms/step - loss: 3.2819 - val_loss: 3.6097\n",
      "Epoch 60/100\n",
      "11/11 [==============================] - 0s 9ms/step - loss: 2.8916 - val_loss: 3.7008\n",
      "Epoch 61/100\n",
      "11/11 [==============================] - 0s 8ms/step - loss: 3.0523 - val_loss: 3.6005\n",
      "Epoch 62/100\n",
      "11/11 [==============================] - 0s 11ms/step - loss: 3.3220 - val_loss: 3.7434\n",
      "Epoch 63/100\n",
      "11/11 [==============================] - 0s 14ms/step - loss: 3.3997 - val_loss: 3.6187\n",
      "Epoch 64/100\n",
      "11/11 [==============================] - 0s 17ms/step - loss: 3.0878 - val_loss: 3.5861\n",
      "Epoch 65/100\n",
      "11/11 [==============================] - 0s 17ms/step - loss: 3.2711 - val_loss: 3.5760\n",
      "Epoch 66/100\n",
      "11/11 [==============================] - 0s 15ms/step - loss: 3.3504 - val_loss: 3.6855\n",
      "Epoch 67/100\n",
      "11/11 [==============================] - 0s 24ms/step - loss: 2.9100 - val_loss: 3.7326\n",
      "Epoch 68/100\n",
      "11/11 [==============================] - 0s 18ms/step - loss: 3.0820 - val_loss: 3.6991\n",
      "Epoch 69/100\n",
      "11/11 [==============================] - 0s 11ms/step - loss: 3.0527 - val_loss: 3.6745\n",
      "Epoch 70/100\n",
      "11/11 [==============================] - 0s 9ms/step - loss: 3.1998 - val_loss: 3.7838\n",
      "Epoch 71/100\n",
      "11/11 [==============================] - ETA: 0s - loss: 2.727 - 0s 9ms/step - loss: 2.9852 - val_loss: 3.6632\n",
      "Epoch 72/100\n",
      "11/11 [==============================] - 0s 9ms/step - loss: 2.8768 - val_loss: 3.7119\n",
      "Epoch 73/100\n",
      "11/11 [==============================] - 0s 9ms/step - loss: 3.0684 - val_loss: 3.5970\n",
      "Epoch 74/100\n",
      "11/11 [==============================] - 0s 11ms/step - loss: 3.0960 - val_loss: 3.5326\n",
      "Epoch 75/100\n",
      "11/11 [==============================] - 0s 10ms/step - loss: 3.1846 - val_loss: 3.5697\n",
      "Epoch 76/100\n",
      "11/11 [==============================] - 0s 13ms/step - loss: 3.3795 - val_loss: 3.6497\n",
      "Epoch 77/100\n",
      "11/11 [==============================] - 0s 14ms/step - loss: 3.1474 - val_loss: 3.6997\n",
      "Epoch 78/100\n",
      "11/11 [==============================] - 0s 13ms/step - loss: 3.3105 - val_loss: 3.6376\n",
      "Epoch 79/100\n",
      "11/11 [==============================] - 0s 11ms/step - loss: 3.0872 - val_loss: 3.6272\n",
      "Epoch 80/100\n",
      "11/11 [==============================] - 0s 11ms/step - loss: 2.7975 - val_loss: 3.5999\n",
      "Epoch 81/100\n",
      "11/11 [==============================] - 0s 10ms/step - loss: 3.1960 - val_loss: 3.5913\n",
      "Epoch 82/100\n",
      "11/11 [==============================] - 0s 12ms/step - loss: 3.2603 - val_loss: 3.6368\n",
      "Epoch 83/100\n",
      "11/11 [==============================] - 0s 13ms/step - loss: 3.2897 - val_loss: 3.7061\n",
      "Epoch 84/100\n",
      "11/11 [==============================] - 0s 9ms/step - loss: 2.6777 - val_loss: 3.5911\n",
      "Epoch 85/100\n",
      "11/11 [==============================] - 0s 9ms/step - loss: 3.1720 - val_loss: 3.6668\n",
      "Epoch 86/100\n",
      "11/11 [==============================] - 0s 10ms/step - loss: 3.2600 - val_loss: 3.6954\n",
      "Epoch 87/100\n",
      "11/11 [==============================] - 0s 9ms/step - loss: 3.0474 - val_loss: 3.7621\n",
      "Epoch 88/100\n",
      "11/11 [==============================] - 0s 12ms/step - loss: 2.8351 - val_loss: 3.6554\n",
      "Epoch 89/100\n",
      "11/11 [==============================] - 0s 24ms/step - loss: 3.0544 - val_loss: 3.6283\n",
      "Epoch 90/100\n",
      "11/11 [==============================] - 0s 8ms/step - loss: 2.7267 - val_loss: 3.5871\n",
      "Epoch 91/100\n",
      "11/11 [==============================] - 0s 17ms/step - loss: 3.0111 - val_loss: 3.6976\n",
      "Epoch 92/100\n",
      "11/11 [==============================] - 0s 14ms/step - loss: 3.2163 - val_loss: 3.6522\n",
      "Epoch 93/100\n",
      "11/11 [==============================] - 0s 10ms/step - loss: 2.8842 - val_loss: 3.7730\n",
      "Epoch 94/100\n",
      "11/11 [==============================] - 0s 11ms/step - loss: 3.1592 - val_loss: 3.8245\n",
      "Epoch 95/100\n",
      "11/11 [==============================] - 0s 15ms/step - loss: 3.0921 - val_loss: 3.5364\n",
      "Epoch 96/100\n",
      "11/11 [==============================] - 0s 14ms/step - loss: 2.9646 - val_loss: 3.6638\n",
      "Epoch 97/100\n",
      "11/11 [==============================] - 0s 13ms/step - loss: 3.4368 - val_loss: 3.5517\n",
      "Epoch 98/100\n",
      "11/11 [==============================] - 0s 11ms/step - loss: 2.7468 - val_loss: 3.6251\n",
      "Epoch 99/100\n",
      "11/11 [==============================] - 0s 13ms/step - loss: 2.9026 - val_loss: 3.6346\n",
      "Epoch 100/100\n",
      "11/11 [==============================] - 0s 17ms/step - loss: 2.9996 - val_loss: 3.6229\n"
     ]
    }
   ],
   "source": [
    "history = linear_model.fit(\n",
    "    train_features, train_labels,\n",
    "    epochs=100,\n",
    "    callbacks=[tf.keras.callbacks.TensorBoard(log_dir='tutorial_regresion/linear_model', histogram_freq=1)],\n",
    "    validation_split = 0.2)"
   ]
  },
  {
   "cell_type": "code",
   "execution_count": 29,
   "id": "28545b51-55bd-4c28-b0e8-488fcbd41de8",
   "metadata": {},
   "outputs": [
    {
     "data": {
      "text/plain": [
       "<AxesSubplot:xlabel='epoch'>"
      ]
     },
     "execution_count": 29,
     "metadata": {},
     "output_type": "execute_result"
    },
    {
     "data": {
      "image/png": "[encoded data removed]",
      "text/plain": [
       "<Figure size 432x288 with 1 Axes>"
      ]
     },
     "metadata": {
      "needs_background": "light"
     },
     "output_type": "display_data"
    }
   ],
   "source": [
    "hist = pd.DataFrame(history.history)\n",
    "hist['epoch'] = history.epoch\n",
    "hist = hist.set_index('epoch')\n",
    "hist.plot(grid=True)"
   ]
  },
  {
   "cell_type": "code",
   "execution_count": 30,
   "id": "6f58ae93-5b8e-4192-9323-5b1621899789",
   "metadata": {},
   "outputs": [],
   "source": [
    "test_results.loc['linear_model','test'] = linear_model.evaluate(test_features, test_labels, verbose=0)\n",
    "test_results.loc['linear_model','train'] = linear_model.evaluate(train_features, train_labels, verbose=0)"
   ]
  },
  {
   "cell_type": "code",
   "execution_count": 31,
   "id": "abbc2bdd-4b82-4245-bf67-45fea5f8a84f",
   "metadata": {},
   "outputs": [
    {
     "data": {
      "text/html": [
       "<div>\n",
       "<style scoped>\n",
       "    .dataframe tbody tr th:only-of-type {\n",
       "        vertical-align: middle;\n",
       "    }\n",
       "\n",
       "    .dataframe tbody tr th {\n",
       "        vertical-align: top;\n",
       "    }\n",
       "\n",
       "    .dataframe thead th {\n",
       "        text-align: right;\n",
       "    }\n",
       "</style>\n",
       "<table border=\"1\" class=\"dataframe\">\n",
       "  <thead>\n",
       "    <tr style=\"text-align: right;\">\n",
       "      <th></th>\n",
       "      <th>train</th>\n",
       "      <th>test</th>\n",
       "    </tr>\n",
       "  </thead>\n",
       "  <tbody>\n",
       "    <tr>\n",
       "      <th>linear_one_model</th>\n",
       "      <td>4.285994</td>\n",
       "      <td>4.238972</td>\n",
       "    </tr>\n",
       "    <tr>\n",
       "      <th>linear_model</th>\n",
       "      <td>3.192941</td>\n",
       "      <td>2.874807</td>\n",
       "    </tr>\n",
       "  </tbody>\n",
       "</table>\n",
       "</div>"
      ],
      "text/plain": [
       "                     train      test\n",
       "linear_one_model  4.285994  4.238972\n",
       "linear_model      3.192941  2.874807"
      ]
     },
     "execution_count": 31,
     "metadata": {},
     "output_type": "execute_result"
    }
   ],
   "source": [
    "test_results"
   ]
  },
  {
   "cell_type": "code",
   "execution_count": 32,
   "id": "cf604dd0-0769-4688-862f-81879dbe44e4",
   "metadata": {},
   "outputs": [
    {
     "data": {
      "text/plain": [
       "<BarContainer object of 13 artists>"
      ]
     },
     "execution_count": 32,
     "metadata": {},
     "output_type": "execute_result"
    },
    {
     "data": {
      "image/png": "[encoded data removed]",
      "text/plain": [
       "<Figure size 1080x720 with 1 Axes>"
      ]
     },
     "metadata": {
      "needs_background": "light"
     },
     "output_type": "display_data"
    }
   ],
   "source": [
    "fig, ax = plt.subplots(figsize=(15, 10))\n",
    "ax.bar(x=train_features.columns, height=linear_model.weights[0].numpy()[:, 0])"
   ]
  },
  {
   "cell_type": "markdown",
   "id": "395648a4-2391-4434-987d-c98aba460ba2",
   "metadata": {},
   "source": [
    "___"
   ]
  },
  {
   "cell_type": "markdown",
   "id": "867cdb9b-758a-423e-8993-ba430c46c9aa",
   "metadata": {},
   "source": [
    "## Deep model con una feature"
   ]
  },
  {
   "cell_type": "code",
   "execution_count": 33,
   "id": "fc3fab9c-f1a6-453d-9e3d-fec5e18e2b6f",
   "metadata": {},
   "outputs": [],
   "source": [
    "deep_one_model = tf.keras.Sequential([\n",
    "      tf.keras.layers.Dense(64, activation='relu', input_dim=1),\n",
    "      tf.keras.layers.Dense(64, activation='relu'),\n",
    "      tf.keras.layers.Dense(1)\n",
    "  ])"
   ]
  },
  {
   "cell_type": "code",
   "execution_count": 34,
   "id": "e7d78053-bf3d-478a-aa56-c260aee39e52",
   "metadata": {},
   "outputs": [
    {
     "name": "stdout",
     "output_type": "stream",
     "text": [
      "Model: \"sequential_2\"\n",
      "_________________________________________________________________\n",
      "Layer (type)                 Output Shape              Param #   \n",
      "=================================================================\n",
      "dense_2 (Dense)              (None, 64)                128       \n",
      "_________________________________________________________________\n",
      "dense_3 (Dense)              (None, 64)                4160      \n",
      "_________________________________________________________________\n",
      "dense_4 (Dense)              (None, 1)                 65        \n",
      "=================================================================\n",
      "Total params: 4,353\n",
      "Trainable params: 4,353\n",
      "Non-trainable params: 0\n",
      "_________________________________________________________________\n"
     ]
    }
   ],
   "source": [
    "deep_one_model.summary()"
   ]
  },
  {
   "cell_type": "code",
   "execution_count": 35,
   "id": "53105c45-aa4d-4764-9abe-a1688e131bde",
   "metadata": {},
   "outputs": [],
   "source": [
    "deep_one_model.compile(loss='mean_absolute_error',\n",
    "             optimizer=tf.keras.optimizers.Adam(0.001))"
   ]
  },
  {
   "cell_type": "code",
   "execution_count": 36,
   "id": "419e534d-4faa-4c8e-8ab1-c9aeed869463",
   "metadata": {
    "collapsed": true,
    "jupyter": {
     "outputs_hidden": true
    },
    "tags": []
   },
   "outputs": [
    {
     "name": "stdout",
     "output_type": "stream",
     "text": [
      "Epoch 1/100\n",
      "11/11 [==============================] - 1s 55ms/step - loss: 22.3436 - val_loss: 23.1766\n",
      "Epoch 2/100\n",
      "11/11 [==============================] - 0s 9ms/step - loss: 21.6956 - val_loss: 22.8545\n",
      "Epoch 3/100\n",
      "11/11 [==============================] - 0s 9ms/step - loss: 21.4669 - val_loss: 22.4569\n",
      "Epoch 4/100\n",
      "11/11 [==============================] - 0s 11ms/step - loss: 21.2495 - val_loss: 21.9151\n",
      "Epoch 5/100\n",
      "11/11 [==============================] - 0s 10ms/step - loss: 20.5008 - val_loss: 21.1895\n",
      "Epoch 6/100\n",
      "11/11 [==============================] - 0s 9ms/step - loss: 19.3563 - val_loss: 20.2518\n",
      "Epoch 7/100\n",
      "11/11 [==============================] - 0s 10ms/step - loss: 18.6330 - val_loss: 19.0638\n",
      "Epoch 8/100\n",
      "11/11 [==============================] - 0s 13ms/step - loss: 17.8097 - val_loss: 17.6785\n",
      "Epoch 9/100\n",
      "11/11 [==============================] - 0s 11ms/step - loss: 15.7141 - val_loss: 16.1041\n",
      "Epoch 10/100\n",
      "11/11 [==============================] - 0s 11ms/step - loss: 14.6861 - val_loss: 14.2616\n",
      "Epoch 11/100\n",
      "11/11 [==============================] - 0s 10ms/step - loss: 12.9649 - val_loss: 12.0336\n",
      "Epoch 12/100\n",
      "11/11 [==============================] - 0s 9ms/step - loss: 10.3766 - val_loss: 9.3716\n",
      "Epoch 13/100\n",
      "11/11 [==============================] - 0s 16ms/step - loss: 8.3253 - val_loss: 6.2694\n",
      "Epoch 14/100\n",
      "11/11 [==============================] - 0s 14ms/step - loss: 6.0089 - val_loss: 4.5972\n",
      "Epoch 15/100\n",
      "11/11 [==============================] - 0s 11ms/step - loss: 4.9661 - val_loss: 4.4175\n",
      "Epoch 16/100\n",
      "11/11 [==============================] - 0s 13ms/step - loss: 5.0749 - val_loss: 4.3181\n",
      "Epoch 17/100\n",
      "11/11 [==============================] - 0s 23ms/step - loss: 4.7082 - val_loss: 4.2633\n",
      "Epoch 18/100\n",
      "11/11 [==============================] - 0s 15ms/step - loss: 4.7669 - val_loss: 4.2116\n",
      "Epoch 19/100\n",
      "11/11 [==============================] - 0s 11ms/step - loss: 4.6930 - val_loss: 4.1853\n",
      "Epoch 20/100\n",
      "11/11 [==============================] - 0s 11ms/step - loss: 4.4987 - val_loss: 4.1561\n",
      "Epoch 21/100\n",
      "11/11 [==============================] - 0s 9ms/step - loss: 4.8132 - val_loss: 4.1404\n",
      "Epoch 22/100\n",
      "11/11 [==============================] - 0s 10ms/step - loss: 4.5374 - val_loss: 4.1256\n",
      "Epoch 23/100\n",
      "11/11 [==============================] - 0s 9ms/step - loss: 4.1924 - val_loss: 4.1003\n",
      "Epoch 24/100\n",
      "11/11 [==============================] - 0s 9ms/step - loss: 4.1627 - val_loss: 4.0910\n",
      "Epoch 25/100\n",
      "11/11 [==============================] - 0s 11ms/step - loss: 4.4884 - val_loss: 4.0554\n",
      "Epoch 26/100\n",
      "11/11 [==============================] - 0s 9ms/step - loss: 4.0789 - val_loss: 4.0486\n",
      "Epoch 27/100\n",
      "11/11 [==============================] - 0s 9ms/step - loss: 4.1410 - val_loss: 4.0357\n",
      "Epoch 28/100\n",
      "11/11 [==============================] - 0s 9ms/step - loss: 3.8802 - val_loss: 4.0582\n",
      "Epoch 29/100\n",
      "11/11 [==============================] - 0s 9ms/step - loss: 4.0557 - val_loss: 4.0534\n",
      "Epoch 30/100\n",
      "11/11 [==============================] - 0s 8ms/step - loss: 4.0058 - val_loss: 4.0192\n",
      "Epoch 31/100\n",
      "11/11 [==============================] - 0s 9ms/step - loss: 4.0315 - val_loss: 4.0158\n",
      "Epoch 32/100\n",
      "11/11 [==============================] - 0s 9ms/step - loss: 4.0843 - val_loss: 4.0337\n",
      "Epoch 33/100\n",
      "11/11 [==============================] - 0s 9ms/step - loss: 4.0953 - val_loss: 4.0337\n",
      "Epoch 34/100\n",
      "11/11 [==============================] - 0s 9ms/step - loss: 4.1821 - val_loss: 4.0247\n",
      "Epoch 35/100\n",
      "11/11 [==============================] - 0s 9ms/step - loss: 3.8507 - val_loss: 4.0272\n",
      "Epoch 36/100\n",
      "11/11 [==============================] - 0s 10ms/step - loss: 3.9568 - val_loss: 4.0388\n",
      "Epoch 37/100\n",
      "11/11 [==============================] - 0s 9ms/step - loss: 3.8526 - val_loss: 4.0529\n",
      "Epoch 38/100\n",
      "11/11 [==============================] - 0s 9ms/step - loss: 3.9619 - val_loss: 4.0321\n",
      "Epoch 39/100\n",
      "11/11 [==============================] - 0s 10ms/step - loss: 3.8002 - val_loss: 4.0249\n",
      "Epoch 40/100\n",
      "11/11 [==============================] - 0s 8ms/step - loss: 3.8281 - val_loss: 4.0370\n",
      "Epoch 41/100\n",
      "11/11 [==============================] - 0s 9ms/step - loss: 4.0537 - val_loss: 4.0788\n",
      "Epoch 42/100\n",
      "11/11 [==============================] - 0s 9ms/step - loss: 3.6926 - val_loss: 4.0684\n",
      "Epoch 43/100\n",
      "11/11 [==============================] - 0s 9ms/step - loss: 4.0417 - val_loss: 4.0331\n",
      "Epoch 44/100\n",
      "11/11 [==============================] - 0s 8ms/step - loss: 3.9024 - val_loss: 4.0496\n",
      "Epoch 45/100\n",
      "11/11 [==============================] - 0s 10ms/step - loss: 4.0502 - val_loss: 4.0736\n",
      "Epoch 46/100\n",
      "11/11 [==============================] - 0s 15ms/step - loss: 4.1643 - val_loss: 4.0400\n",
      "Epoch 47/100\n",
      "11/11 [==============================] - 0s 13ms/step - loss: 3.8399 - val_loss: 4.0421\n",
      "Epoch 48/100\n",
      "11/11 [==============================] - 0s 9ms/step - loss: 3.8285 - val_loss: 4.0586\n",
      "Epoch 49/100\n",
      "11/11 [==============================] - 0s 10ms/step - loss: 3.6590 - val_loss: 4.0761\n",
      "Epoch 50/100\n",
      "11/11 [==============================] - 0s 13ms/step - loss: 3.9636 - val_loss: 4.1476\n",
      "Epoch 51/100\n",
      "11/11 [==============================] - 0s 15ms/step - loss: 3.9880 - val_loss: 4.0643\n",
      "Epoch 52/100\n",
      "11/11 [==============================] - 0s 13ms/step - loss: 3.8447 - val_loss: 4.0502\n",
      "Epoch 53/100\n",
      "11/11 [==============================] - 0s 13ms/step - loss: 3.9574 - val_loss: 4.0878\n",
      "Epoch 54/100\n",
      "11/11 [==============================] - 0s 14ms/step - loss: 4.0958 - val_loss: 4.1216\n",
      "Epoch 55/100\n",
      "11/11 [==============================] - 0s 14ms/step - loss: 3.8021 - val_loss: 4.1061\n",
      "Epoch 56/100\n",
      "11/11 [==============================] - 0s 11ms/step - loss: 3.7308 - val_loss: 4.1306\n",
      "Epoch 57/100\n",
      "11/11 [==============================] - 0s 11ms/step - loss: 4.0120 - val_loss: 4.1208\n",
      "Epoch 58/100\n",
      "11/11 [==============================] - 0s 10ms/step - loss: 3.9860 - val_loss: 4.1056\n",
      "Epoch 59/100\n",
      "11/11 [==============================] - 0s 10ms/step - loss: 3.8363 - val_loss: 4.1129\n",
      "Epoch 60/100\n",
      "11/11 [==============================] - 0s 9ms/step - loss: 3.8643 - val_loss: 4.1498\n",
      "Epoch 61/100\n",
      "11/11 [==============================] - 0s 9ms/step - loss: 3.7761 - val_loss: 4.0981\n",
      "Epoch 62/100\n",
      "11/11 [==============================] - 0s 22ms/step - loss: 3.7748 - val_loss: 4.1337\n",
      "Epoch 63/100\n",
      "11/11 [==============================] - 0s 12ms/step - loss: 4.1562 - val_loss: 4.1197\n",
      "Epoch 64/100\n",
      "11/11 [==============================] - 0s 16ms/step - loss: 3.7460 - val_loss: 4.1250\n",
      "Epoch 65/100\n",
      "11/11 [==============================] - 0s 20ms/step - loss: 3.7183 - val_loss: 4.0826\n",
      "Epoch 66/100\n",
      "11/11 [==============================] - 0s 17ms/step - loss: 3.9400 - val_loss: 4.1024\n",
      "Epoch 67/100\n",
      "11/11 [==============================] - 0s 14ms/step - loss: 3.7444 - val_loss: 4.0762\n",
      "Epoch 68/100\n",
      "11/11 [==============================] - 0s 14ms/step - loss: 3.9332 - val_loss: 4.0889\n",
      "Epoch 69/100\n",
      "11/11 [==============================] - 0s 15ms/step - loss: 3.8812 - val_loss: 4.1527\n",
      "Epoch 70/100\n",
      "11/11 [==============================] - 0s 10ms/step - loss: 3.8826 - val_loss: 4.0976\n",
      "Epoch 71/100\n",
      "11/11 [==============================] - 0s 10ms/step - loss: 3.9354 - val_loss: 4.0709\n",
      "Epoch 72/100\n",
      "11/11 [==============================] - 0s 11ms/step - loss: 3.9834 - val_loss: 4.1730\n",
      "Epoch 73/100\n",
      "11/11 [==============================] - 0s 10ms/step - loss: 3.8145 - val_loss: 4.1074\n",
      "Epoch 74/100\n",
      "11/11 [==============================] - 0s 12ms/step - loss: 3.8823 - val_loss: 4.1237\n",
      "Epoch 75/100\n",
      "11/11 [==============================] - 0s 10ms/step - loss: 3.7711 - val_loss: 4.1390\n",
      "Epoch 76/100\n",
      "11/11 [==============================] - 0s 14ms/step - loss: 3.9887 - val_loss: 4.1161\n",
      "Epoch 77/100\n",
      "11/11 [==============================] - 0s 13ms/step - loss: 3.9620 - val_loss: 4.1079\n",
      "Epoch 78/100\n",
      "11/11 [==============================] - 0s 10ms/step - loss: 3.8836 - val_loss: 4.0682\n",
      "Epoch 79/100\n",
      "11/11 [==============================] - 0s 10ms/step - loss: 3.8970 - val_loss: 4.1158\n",
      "Epoch 80/100\n",
      "11/11 [==============================] - 0s 10ms/step - loss: 3.9413 - val_loss: 4.1075\n",
      "Epoch 81/100\n",
      "11/11 [==============================] - 0s 9ms/step - loss: 3.8093 - val_loss: 4.0733\n",
      "Epoch 82/100\n",
      "11/11 [==============================] - 0s 9ms/step - loss: 3.8330 - val_loss: 4.1141\n",
      "Epoch 83/100\n",
      "11/11 [==============================] - 0s 10ms/step - loss: 4.0730 - val_loss: 4.1310\n",
      "Epoch 84/100\n",
      "11/11 [==============================] - 0s 9ms/step - loss: 3.7788 - val_loss: 4.0842\n",
      "Epoch 85/100\n",
      "11/11 [==============================] - 0s 10ms/step - loss: 3.8693 - val_loss: 4.1151\n",
      "Epoch 86/100\n",
      "11/11 [==============================] - 0s 8ms/step - loss: 3.8161 - val_loss: 4.1344\n",
      "Epoch 87/100\n",
      "11/11 [==============================] - 0s 10ms/step - loss: 3.7205 - val_loss: 4.0576\n",
      "Epoch 88/100\n",
      "11/11 [==============================] - 0s 8ms/step - loss: 3.8316 - val_loss: 4.0622\n",
      "Epoch 89/100\n",
      "11/11 [==============================] - 0s 9ms/step - loss: 3.9725 - val_loss: 4.0846\n",
      "Epoch 90/100\n",
      "11/11 [==============================] - 0s 10ms/step - loss: 3.8958 - val_loss: 4.1397\n",
      "Epoch 91/100\n",
      "11/11 [==============================] - 0s 10ms/step - loss: 3.7530 - val_loss: 4.0869\n",
      "Epoch 92/100\n",
      "11/11 [==============================] - 0s 13ms/step - loss: 3.6697 - val_loss: 4.0780\n",
      "Epoch 93/100\n",
      "11/11 [==============================] - 0s 13ms/step - loss: 3.7721 - val_loss: 4.0727\n",
      "Epoch 94/100\n",
      "11/11 [==============================] - 0s 10ms/step - loss: 3.9698 - val_loss: 4.1686\n",
      "Epoch 95/100\n",
      "11/11 [==============================] - 0s 11ms/step - loss: 3.9686 - val_loss: 4.1058\n",
      "Epoch 96/100\n",
      "11/11 [==============================] - 0s 13ms/step - loss: 3.7743 - val_loss: 4.1276\n",
      "Epoch 97/100\n",
      "11/11 [==============================] - 0s 12ms/step - loss: 3.9153 - val_loss: 4.1011\n",
      "Epoch 98/100\n",
      "11/11 [==============================] - 0s 13ms/step - loss: 3.9630 - val_loss: 4.0973\n",
      "Epoch 99/100\n",
      "11/11 [==============================] - 0s 31ms/step - loss: 3.7659 - val_loss: 4.1612\n",
      "Epoch 100/100\n",
      "11/11 [==============================] - 0s 12ms/step - loss: 3.7335 - val_loss: 4.1379\n"
     ]
    }
   ],
   "source": [
    "history = deep_one_model.fit(\n",
    "    train_features['LSTAT'], train_labels,\n",
    "    epochs=100,\n",
    "    callbacks=[tf.keras.callbacks.TensorBoard(log_dir='tutorial_regresion/linear_model', histogram_freq=1)],\n",
    "    validation_split = 0.2)"
   ]
  },
  {
   "cell_type": "code",
   "execution_count": 37,
   "id": "37739761-13b8-475d-8fb4-8131aa4449df",
   "metadata": {},
   "outputs": [
    {
     "data": {
      "text/plain": [
       "<AxesSubplot:xlabel='epoch'>"
      ]
     },
     "execution_count": 37,
     "metadata": {},
     "output_type": "execute_result"
    },
    {
     "data": {
      "image/png": "[encoded data removed]",
      "text/plain": [
       "<Figure size 432x288 with 1 Axes>"
      ]
     },
     "metadata": {
      "needs_background": "light"
     },
     "output_type": "display_data"
    }
   ],
   "source": [
    "hist = pd.DataFrame(history.history)\n",
    "hist['epoch'] = history.epoch\n",
    "hist = hist.set_index('epoch')\n",
    "hist.plot(grid=True)"
   ]
  },
  {
   "cell_type": "code",
   "execution_count": 38,
   "id": "f69929aa-42a2-4b69-9150-6a875cc74673",
   "metadata": {},
   "outputs": [],
   "source": [
    "x = tf.linspace(train_features['LSTAT'].min(), train_features['LSTAT'].max(), 1000)\n",
    "y = deep_one_model.predict(x)"
   ]
  },
  {
   "cell_type": "code",
   "execution_count": 39,
   "id": "e012758e-7ec0-44c4-9896-0f0c9555d390",
   "metadata": {},
   "outputs": [
    {
     "data": {
      "text/plain": [
       "<matplotlib.legend.Legend at 0x1562d05c0>"
      ]
     },
     "execution_count": 39,
     "metadata": {},
     "output_type": "execute_result"
    },
    {
     "data": {
      "image/png": "[encoded data removed]",
      "text/plain": [
       "<Figure size 432x288 with 1 Axes>"
      ]
     },
     "metadata": {
      "needs_background": "light"
     },
     "output_type": "display_data"
    }
   ],
   "source": [
    "plt.scatter(train_features['LSTAT'], train_labels, label='Data')\n",
    "plt.plot(x, y, color='k', label='Predictions')\n",
    "plt.xlabel('LSTAT')\n",
    "plt.ylabel('MEDV')\n",
    "plt.legend()"
   ]
  },
  {
   "cell_type": "code",
   "execution_count": 40,
   "id": "82e4728d-26a4-4ff6-a1b3-ea67529cb21e",
   "metadata": {
    "tags": []
   },
   "outputs": [],
   "source": [
    "test_results.loc['deep_one_model','test'] = deep_one_model.evaluate(test_features['LSTAT'], test_labels, verbose=0)\n",
    "test_results.loc['deep_one_model','train'] = deep_one_model.evaluate(train_features['LSTAT'], train_labels, verbose=0)"
   ]
  },
  {
   "cell_type": "code",
   "execution_count": 41,
   "id": "d18f659c-7fd2-4515-9f9e-531105159c70",
   "metadata": {},
   "outputs": [
    {
     "data": {
      "text/html": [
       "<div>\n",
       "<style scoped>\n",
       "    .dataframe tbody tr th:only-of-type {\n",
       "        vertical-align: middle;\n",
       "    }\n",
       "\n",
       "    .dataframe tbody tr th {\n",
       "        vertical-align: top;\n",
       "    }\n",
       "\n",
       "    .dataframe thead th {\n",
       "        text-align: right;\n",
       "    }\n",
       "</style>\n",
       "<table border=\"1\" class=\"dataframe\">\n",
       "  <thead>\n",
       "    <tr style=\"text-align: right;\">\n",
       "      <th></th>\n",
       "      <th>train</th>\n",
       "      <th>test</th>\n",
       "    </tr>\n",
       "  </thead>\n",
       "  <tbody>\n",
       "    <tr>\n",
       "      <th>linear_one_model</th>\n",
       "      <td>4.285994</td>\n",
       "      <td>4.238972</td>\n",
       "    </tr>\n",
       "    <tr>\n",
       "      <th>linear_model</th>\n",
       "      <td>3.192941</td>\n",
       "      <td>2.874807</td>\n",
       "    </tr>\n",
       "    <tr>\n",
       "      <th>deep_one_model</th>\n",
       "      <td>3.884676</td>\n",
       "      <td>4.062861</td>\n",
       "    </tr>\n",
       "  </tbody>\n",
       "</table>\n",
       "</div>"
      ],
      "text/plain": [
       "                     train      test\n",
       "linear_one_model  4.285994  4.238972\n",
       "linear_model      3.192941  2.874807\n",
       "deep_one_model    3.884676  4.062861"
      ]
     },
     "execution_count": 41,
     "metadata": {},
     "output_type": "execute_result"
    }
   ],
   "source": [
    "test_results"
   ]
  },
  {
   "cell_type": "markdown",
   "id": "23a34e8c-0e74-4c4c-a96e-b3461dcafa90",
   "metadata": {},
   "source": [
    "## Full model deep model"
   ]
  },
  {
   "cell_type": "code",
   "execution_count": 42,
   "id": "cbfaf006-0e22-42d6-818f-566bb40b370b",
   "metadata": {},
   "outputs": [],
   "source": [
    "dnn_model = tf.keras.Sequential([\n",
    "      tf.keras.layers.Dense(64, activation='relu', input_dim=train_features.shape[1]),\n",
    "      tf.keras.layers.Dense(64, activation='relu'),\n",
    "      tf.keras.layers.Dense(1)\n",
    "  ])"
   ]
  },
  {
   "cell_type": "code",
   "execution_count": 43,
   "id": "eeb2f129-155f-4a25-9edb-f930bad23e0f",
   "metadata": {},
   "outputs": [
    {
     "name": "stdout",
     "output_type": "stream",
     "text": [
      "Model: \"sequential_3\"\n",
      "_________________________________________________________________\n",
      "Layer (type)                 Output Shape              Param #   \n",
      "=================================================================\n",
      "dense_5 (Dense)              (None, 64)                896       \n",
      "_________________________________________________________________\n",
      "dense_6 (Dense)              (None, 64)                4160      \n",
      "_________________________________________________________________\n",
      "dense_7 (Dense)              (None, 1)                 65        \n",
      "=================================================================\n",
      "Total params: 5,121\n",
      "Trainable params: 5,121\n",
      "Non-trainable params: 0\n",
      "_________________________________________________________________\n"
     ]
    }
   ],
   "source": [
    "dnn_model.summary()"
   ]
  },
  {
   "cell_type": "code",
   "execution_count": 44,
   "id": "edc51b5f-2fe7-4c1e-958d-1071d76a7991",
   "metadata": {},
   "outputs": [],
   "source": [
    "dnn_model.compile(\n",
    "    loss='mean_absolute_error',\n",
    "    optimizer=tf.keras.optimizers.Adam(0.001)\n",
    ")"
   ]
  },
  {
   "cell_type": "code",
   "execution_count": 50,
   "id": "491643e8-0d4e-46e0-969b-66bab6909cb4",
   "metadata": {},
   "outputs": [
    {
     "data": {
      "text/plain": [
       "[<tf.Variable 'dense_5/kernel:0' shape=(13, 64) dtype=float32, numpy=\n",
       " array([[ 2.00557664e-01, -3.28996718e-01, -3.11892778e-01,\n",
       "         -1.74001069e-03, -3.97507437e-02, -1.36748448e-01,\n",
       "         -4.25167859e-01, -2.93153435e-01,  1.14368126e-01,\n",
       "          1.23976551e-01, -1.15106486e-01, -3.04828316e-01,\n",
       "         -3.44683565e-02, -3.13963175e-01, -4.30064261e-01,\n",
       "          1.81239188e-01, -5.92741407e-02, -1.28413528e-01,\n",
       "          1.36509895e-01,  1.84328526e-01, -1.51370853e-01,\n",
       "         -8.51954073e-02, -4.18112844e-01, -1.80656299e-01,\n",
       "         -3.59540582e-01, -2.27436498e-01, -3.41422349e-01,\n",
       "         -2.90462285e-01, -4.90679890e-01, -2.83450051e-03,\n",
       "          1.43106341e-01,  8.91582891e-02, -3.69164050e-01,\n",
       "         -5.80212288e-02,  1.06502861e-01, -1.55072268e-02,\n",
       "         -9.55569185e-03,  3.46605815e-02,  4.41682078e-02,\n",
       "         -3.32940698e-01, -7.47681409e-02, -1.00990087e-01,\n",
       "          1.06913537e-01, -4.73613054e-01, -5.60467780e-01,\n",
       "         -1.69902056e-01, -3.20866078e-01, -2.67904282e-01,\n",
       "         -8.95428732e-02,  4.71489467e-02,  1.00289240e-01,\n",
       "         -1.64629191e-01,  2.01651514e-01, -2.77548969e-01,\n",
       "         -1.92221664e-02, -1.07188039e-01, -1.70022994e-01,\n",
       "         -1.39351994e-01, -4.87632714e-02, -2.23400176e-01,\n",
       "         -3.59567046e-01, -3.83170038e-01, -3.85181725e-01,\n",
       "         -2.77305812e-01],\n",
       "        [-2.26849526e-01,  4.50511873e-02, -1.15315251e-01,\n",
       "         -3.24071944e-01, -2.52541512e-01,  1.67202681e-01,\n",
       "          6.24024868e-03,  1.76716089e-01, -2.19420522e-01,\n",
       "         -1.33817643e-01,  3.03128026e-02,  2.56564617e-01,\n",
       "          2.15587243e-01, -3.70929301e-01, -1.04988106e-01,\n",
       "          6.18072823e-02, -1.26871645e-01, -2.82404095e-01,\n",
       "         -2.70539463e-01, -1.59732863e-01, -1.27749324e-01,\n",
       "         -1.62033096e-01,  1.93302661e-01,  2.91466027e-01,\n",
       "          1.24634914e-01, -2.56118447e-01, -7.43557662e-02,\n",
       "         -2.07418784e-01, -5.38696572e-02,  1.26814067e-01,\n",
       "          1.25720516e-01,  2.12838307e-01,  1.49062827e-01,\n",
       "          2.16537252e-01,  8.65773782e-02, -3.66229802e-01,\n",
       "         -1.39133185e-01,  7.63893947e-02, -1.98070347e-01,\n",
       "          9.60414484e-02,  2.70664752e-01,  1.80762634e-01,\n",
       "          1.37379229e-01, -7.13318884e-02,  1.81229711e-02,\n",
       "         -2.46221736e-01, -3.29387248e-01,  2.98683584e-01,\n",
       "         -1.82843640e-01,  1.48222953e-01, -7.73780495e-02,\n",
       "          2.52206083e-02,  9.35151204e-02, -3.60559434e-01,\n",
       "         -1.63827792e-01, -2.55745322e-01, -1.01280354e-01,\n",
       "         -3.84166032e-01, -1.16292164e-01,  1.54427677e-01,\n",
       "         -3.08996469e-01,  4.80425172e-02,  2.15374991e-01,\n",
       "         -1.82228610e-01],\n",
       "        [ 2.59398639e-01,  1.14504863e-02,  9.31065381e-02,\n",
       "          2.60320812e-01,  2.93956608e-01, -4.24851514e-02,\n",
       "         -7.92345777e-02, -1.04941882e-01,  3.63358147e-02,\n",
       "          1.05088785e-01, -8.95904526e-02, -3.82126532e-02,\n",
       "          1.08476572e-01, -1.90253377e-01,  1.46928662e-02,\n",
       "         -1.67746812e-01, -2.24892408e-01,  9.39055607e-02,\n",
       "         -1.68858215e-01,  2.93186724e-01,  1.32051945e-01,\n",
       "          3.12020063e-01, -1.76197380e-01, -1.16661265e-01,\n",
       "          2.60374308e-01, -2.18917310e-01,  2.29651764e-01,\n",
       "         -2.10798234e-01, -1.92351997e-01, -3.03941160e-01,\n",
       "         -7.48987645e-02,  8.78442004e-02, -2.57788926e-01,\n",
       "         -6.33962527e-02, -3.29563618e-01, -4.71530519e-02,\n",
       "         -2.27952320e-02, -3.06549579e-01,  1.25341266e-01,\n",
       "          1.53349221e-01,  7.69564733e-02, -6.93088919e-02,\n",
       "          2.27623984e-01,  9.12228972e-02,  1.42559856e-02,\n",
       "         -1.27822876e-01,  7.67141655e-02,  2.31263652e-01,\n",
       "         -7.85879120e-02,  1.98699668e-01, -2.95179397e-01,\n",
       "          1.77832142e-01,  5.17007383e-03,  1.85845077e-01,\n",
       "          3.04916501e-01, -2.92176574e-01, -4.30934317e-03,\n",
       "          2.43026972e-01, -1.96949780e-01,  6.94297403e-02,\n",
       "         -2.45679930e-01, -1.75037608e-02,  1.19190529e-01,\n",
       "         -2.39551902e-01],\n",
       "        [-2.07062855e-01,  1.14285285e-02,  2.66331315e-01,\n",
       "          1.00687213e-01,  7.95577168e-02, -3.33949715e-01,\n",
       "         -9.72170159e-02, -2.26984382e-01, -1.26802444e-01,\n",
       "          2.08050415e-01, -4.44670379e-01, -6.59249350e-02,\n",
       "         -3.46695215e-01, -2.14670107e-01,  1.56720430e-02,\n",
       "          3.03733438e-01, -1.51994869e-01, -5.78262173e-02,\n",
       "          5.25228046e-02,  5.25943898e-02, -3.42155099e-01,\n",
       "         -1.98177636e-01,  2.10106656e-01, -3.24263424e-01,\n",
       "          4.50803153e-02,  2.07101896e-01, -1.64166808e-01,\n",
       "         -2.22601593e-01, -9.18722153e-02,  2.39252865e-01,\n",
       "         -1.63795594e-02,  1.38804734e-01,  2.13832453e-01,\n",
       "          2.30942816e-01, -4.11524981e-01, -1.68838128e-01,\n",
       "          1.98175952e-01,  1.41994551e-01,  2.95823693e-01,\n",
       "         -3.49140733e-01,  1.88839287e-01,  1.57107219e-01,\n",
       "          3.02636802e-01, -3.41945738e-01, -2.31212586e-01,\n",
       "         -2.80221045e-01,  2.59326875e-01, -1.64658219e-01,\n",
       "         -3.81300539e-01,  2.82821506e-01, -2.27693111e-01,\n",
       "         -2.36366123e-01,  1.79816023e-01, -4.36231315e-01,\n",
       "         -1.89430028e-01,  1.17780954e-01, -6.32206351e-02,\n",
       "         -1.45112902e-01,  2.14867115e-01,  2.44038507e-01,\n",
       "         -2.51842916e-01,  4.82232682e-02, -9.35438871e-02,\n",
       "          2.06140384e-01],\n",
       "        [ 2.15642884e-01, -2.51653790e-01,  8.90305191e-02,\n",
       "         -1.37642533e-01,  1.61605552e-01, -2.65302479e-01,\n",
       "          5.03018424e-02, -9.37075168e-03,  1.07734732e-01,\n",
       "          9.21131819e-02, -1.70367688e-01,  5.72075471e-02,\n",
       "         -4.21836041e-02, -1.13065436e-01, -1.00653954e-01,\n",
       "          1.36141339e-02,  8.56714994e-02,  1.59094021e-01,\n",
       "          6.25151396e-02,  2.99231052e-01,  2.76578933e-01,\n",
       "          6.32523969e-02,  4.08981368e-02,  4.83546965e-02,\n",
       "         -2.87649065e-01,  2.46517658e-02, -3.02654743e-01,\n",
       "         -1.70004040e-01, -1.71996191e-01, -6.46634586e-03,\n",
       "         -2.04944283e-01, -2.43031815e-01,  2.01474607e-01,\n",
       "          1.45546449e-02, -1.10310264e-01,  3.63524668e-02,\n",
       "         -4.69978571e-01, -2.20940784e-01, -2.51513600e-01,\n",
       "         -6.56807348e-02, -3.10028195e-01,  4.06872295e-02,\n",
       "          9.02288929e-02,  3.95551510e-02,  5.89466188e-03,\n",
       "         -4.33556549e-02,  1.86539695e-01,  1.95337817e-01,\n",
       "         -3.05324733e-01, -3.11247110e-01,  9.15963426e-02,\n",
       "          3.68056097e-03,  2.50059873e-01, -9.05965790e-02,\n",
       "         -3.07722658e-01, -2.49341831e-01, -3.80875133e-02,\n",
       "          2.93974906e-01,  2.39519492e-01, -2.92832851e-01,\n",
       "          1.58018038e-01,  9.18900669e-02, -7.49830231e-02,\n",
       "         -1.28386080e-01],\n",
       "        [-3.01399767e-01,  1.46221548e-01,  4.33862597e-01,\n",
       "         -3.40530694e-01, -5.49538061e-03,  1.69183657e-01,\n",
       "          2.33380154e-01,  4.02035445e-01, -4.18376803e-01,\n",
       "          2.67330468e-01,  8.80650505e-02, -8.99392962e-02,\n",
       "          2.42689073e-01, -6.43849075e-02,  2.69029826e-01,\n",
       "         -3.28229576e-01,  3.44230473e-01, -2.36905098e-01,\n",
       "         -2.49947295e-01, -9.49983746e-02,  1.01399034e-01,\n",
       "          1.52703479e-01,  9.41310748e-02, -1.41944855e-01,\n",
       "          4.44012851e-01, -1.55019626e-01, -1.61439121e-01,\n",
       "          3.70701700e-01,  3.74829680e-01, -1.32215634e-01,\n",
       "         -1.97219715e-01, -2.36303136e-01, -1.48746923e-01,\n",
       "          2.33888533e-02,  9.59739462e-02, -1.26936078e-01,\n",
       "         -1.52671784e-01,  2.00016543e-01,  3.65253538e-01,\n",
       "         -4.17292625e-01,  9.90795493e-02, -7.65491128e-02,\n",
       "          1.01848595e-01, -4.04566713e-02, -3.43216546e-02,\n",
       "          1.44935921e-01, -2.58520365e-01,  1.51510864e-01,\n",
       "         -1.94925517e-01,  1.99831143e-01,  8.80157277e-02,\n",
       "          3.74359190e-01,  3.82666677e-01,  1.19612791e-01,\n",
       "          1.97407156e-02, -1.25450388e-01, -4.00422543e-01,\n",
       "          1.92446217e-01,  3.94159049e-01, -1.53316930e-01,\n",
       "          1.01344079e-01,  3.42534602e-01,  4.36353534e-01,\n",
       "          7.45169222e-02],\n",
       "        [ 5.50121404e-02, -1.08423285e-01, -1.84580386e-01,\n",
       "          2.59035587e-01, -1.99335720e-02, -1.01747580e-01,\n",
       "         -2.58340389e-01,  9.61094424e-02,  1.66704759e-01,\n",
       "          5.40506355e-02, -4.11539860e-02,  1.01709567e-01,\n",
       "         -2.84919292e-02,  5.34956381e-02, -4.39770631e-02,\n",
       "         -4.81728874e-02,  3.54982167e-02,  1.36638969e-01,\n",
       "         -2.42025882e-01, -1.46858394e-03, -1.83005124e-01,\n",
       "          1.22508615e-01,  1.05540872e-01, -1.36741549e-01,\n",
       "         -2.04278901e-01, -1.24405541e-01,  1.17039688e-01,\n",
       "         -8.35938975e-02, -7.27743134e-02, -1.32540464e-01,\n",
       "         -1.95826948e-01, -6.35714084e-02, -1.69106603e-01,\n",
       "         -2.27985203e-01,  1.03377879e-01,  2.51874924e-01,\n",
       "          2.60128200e-01, -1.83101848e-01, -3.27676162e-02,\n",
       "          1.95818201e-01, -2.81890184e-01,  3.28016430e-01,\n",
       "         -2.35441580e-01, -7.20066428e-02,  1.19634315e-01,\n",
       "          1.41975835e-01,  8.45812447e-03, -9.55382064e-02,\n",
       "         -2.48599321e-01,  2.01076537e-01, -2.48477787e-01,\n",
       "          1.68851033e-01, -2.24051401e-01, -2.33059868e-01,\n",
       "          2.72181034e-02, -7.27786720e-02,  6.32846653e-02,\n",
       "         -9.35657620e-02, -1.71482056e-01, -2.69030958e-01,\n",
       "          1.84693441e-01, -2.24227726e-01, -2.32343704e-01,\n",
       "         -2.57586062e-01],\n",
       "        [-2.77271345e-02,  1.19197585e-01,  1.90411061e-01,\n",
       "         -2.53341287e-01, -3.07455987e-01,  3.77868302e-02,\n",
       "          9.71367233e-04, -1.51479468e-01,  1.29644915e-01,\n",
       "         -6.33802265e-02,  1.79086793e-02,  2.17913762e-01,\n",
       "          2.14752033e-01,  3.69510800e-02, -1.42834857e-01,\n",
       "          1.67667329e-01, -1.35959396e-02, -2.11304307e-01,\n",
       "         -4.13426042e-01,  1.12635657e-01, -1.88559249e-01,\n",
       "         -2.84833703e-02, -2.26544440e-01,  2.27723986e-01,\n",
       "         -1.85001059e-03,  1.30377159e-01, -1.26557276e-01,\n",
       "         -3.01074356e-01, -2.92705566e-01, -3.74842435e-01,\n",
       "          5.87454960e-02, -1.70380682e-01,  2.88880076e-02,\n",
       "         -3.98978323e-01,  6.73797876e-02,  3.34318519e-01,\n",
       "         -2.43778855e-01,  1.31193236e-01, -7.78323784e-02,\n",
       "         -6.05043024e-02, -2.10087523e-02,  1.60115227e-01,\n",
       "         -3.65951210e-01, -2.93568552e-01, -1.52454019e-01,\n",
       "          8.76631141e-02, -1.95591316e-01, -1.39992952e-01,\n",
       "          1.19069427e-01,  2.12409928e-01,  2.70514518e-01,\n",
       "          4.04225737e-02, -2.69687712e-01, -1.02588214e-01,\n",
       "         -3.13831627e-01,  1.43772855e-01, -3.07535604e-02,\n",
       "         -3.94813448e-01, -2.96230137e-01, -5.62393712e-03,\n",
       "          1.88069016e-01, -3.40322584e-01,  1.64557286e-02,\n",
       "          1.30907416e-01],\n",
       "        [-2.24184524e-02, -8.27140547e-03,  2.26208195e-01,\n",
       "          2.09126860e-01, -2.12397873e-01,  2.62723237e-01,\n",
       "         -2.69388318e-01, -1.50758356e-01,  3.15407664e-01,\n",
       "          4.51539457e-02,  6.53107911e-02,  3.03599805e-01,\n",
       "          2.86612272e-01, -2.38236800e-01, -2.73360670e-01,\n",
       "          1.88562900e-01, -2.22673967e-01,  1.49840355e-01,\n",
       "         -4.66320589e-02,  1.87449325e-02,  2.01837160e-03,\n",
       "          1.75451413e-01,  1.64236605e-01, -7.30324388e-02,\n",
       "         -3.53984162e-02,  3.18839788e-01, -3.08932275e-01,\n",
       "          4.14129160e-02,  2.21314635e-02,  2.13965982e-01,\n",
       "          1.83698282e-01,  6.54745102e-02,  2.37704307e-01,\n",
       "          9.39726532e-02,  3.17030810e-02, -2.37923130e-01,\n",
       "          1.03386357e-01, -1.43698245e-01,  3.02062035e-01,\n",
       "          1.01574264e-01, -3.93598452e-02, -1.65613398e-01,\n",
       "          1.01590671e-01,  1.29428044e-01, -7.94172734e-02,\n",
       "         -2.46139360e-03, -9.24664363e-02,  5.86544499e-02,\n",
       "          1.39329329e-01,  1.75918296e-01,  6.41938448e-02,\n",
       "         -1.99608117e-01, -1.99064687e-01,  1.87098324e-01,\n",
       "         -1.11143060e-01, -2.48848945e-01, -1.57825559e-01,\n",
       "         -1.92397356e-01, -3.16915959e-01,  2.34740749e-01,\n",
       "          3.29893753e-02, -2.03719646e-01,  1.77910283e-01,\n",
       "          1.90738499e-01],\n",
       "        [ 2.47756794e-01, -2.43356377e-01, -3.35966140e-01,\n",
       "         -1.45728052e-01,  3.09943467e-01,  1.68270573e-01,\n",
       "          6.36184961e-02, -1.24426007e-01,  3.52264345e-01,\n",
       "          1.76364407e-01,  1.48990497e-01,  1.28584698e-01,\n",
       "         -7.99380019e-02, -1.71915799e-01, -1.59857243e-01,\n",
       "          1.74354225e-01, -7.88608491e-02,  1.71623871e-01,\n",
       "          2.03053951e-02, -9.75107551e-02,  1.58401564e-01,\n",
       "          4.74249497e-02, -3.04162174e-01, -2.92621851e-01,\n",
       "         -2.84978628e-01,  2.39042267e-01,  4.92999069e-02,\n",
       "         -1.02726601e-01, -2.48148769e-01,  2.69822448e-01,\n",
       "          1.96673751e-01, -8.30309372e-03,  2.19429016e-01,\n",
       "          1.47770256e-01, -1.39815465e-01, -3.66126120e-01,\n",
       "          1.16641782e-01, -2.38419011e-01, -9.09953192e-03,\n",
       "         -2.61278927e-01, -3.59321028e-01, -2.48426422e-01,\n",
       "         -3.48016433e-02,  1.60896003e-01, -2.03807637e-01,\n",
       "         -1.64893240e-01, -7.73200439e-03,  1.70094743e-01,\n",
       "          2.17067868e-01, -5.45670055e-02, -2.27962971e-01,\n",
       "          1.71748567e-02, -9.00901332e-02,  2.41304457e-01,\n",
       "          3.16950172e-01,  1.38196304e-01, -3.03011443e-02,\n",
       "          3.17108445e-02,  1.94700301e-01, -3.10375728e-02,\n",
       "          1.69762343e-01, -2.95663297e-01, -1.12175293e-01,\n",
       "         -2.89544255e-01],\n",
       "        [-2.11180374e-01, -1.00136712e-01, -2.30945557e-01,\n",
       "          4.57638279e-02,  7.50986207e-03,  4.32157069e-01,\n",
       "         -2.35943541e-01, -1.22942701e-01,  2.94508100e-01,\n",
       "         -3.13737780e-01,  3.07212472e-01,  1.90699235e-01,\n",
       "          9.08287466e-02, -3.00873537e-02, -1.33336917e-01,\n",
       "         -1.04653865e-01, -1.56525314e-01, -3.53423595e-01,\n",
       "          2.86759317e-01, -1.65526614e-01, -2.90239275e-01,\n",
       "         -2.45243490e-01, -1.51216716e-01,  3.09580684e-01,\n",
       "         -2.94692963e-01,  1.74019188e-01, -1.98558375e-01,\n",
       "         -3.30663979e-01,  1.18516065e-01,  5.72262034e-02,\n",
       "          1.46782875e-01,  3.65251213e-01, -1.99253693e-01,\n",
       "          5.23057170e-02,  2.74725836e-02,  1.26840428e-01,\n",
       "         -3.38494927e-01, -3.28299254e-02, -1.05301596e-01,\n",
       "          1.57322913e-01, -1.45147100e-01, -2.13691369e-01,\n",
       "          1.74907316e-02, -3.13356817e-01,  7.82128517e-03,\n",
       "          1.39949217e-01,  3.30714494e-01, -7.19812512e-02,\n",
       "          3.41719776e-01, -9.23117902e-03, -5.46596423e-02,\n",
       "         -3.56962800e-01,  1.63454205e-01, -1.83866426e-01,\n",
       "         -2.89921224e-01,  2.96433270e-01,  7.85915256e-02,\n",
       "          2.68578112e-01, -3.91036496e-02,  1.94443285e-01,\n",
       "          3.72854948e-01,  5.97337820e-02, -3.00194006e-02,\n",
       "         -5.24743348e-02],\n",
       "        [ 1.59149170e-01,  4.24601078e-01,  4.29089600e-03,\n",
       "          8.14665183e-02,  2.46300265e-01,  1.03443824e-01,\n",
       "          1.22360677e-01,  6.51202202e-02,  2.44721100e-01,\n",
       "          1.91074628e-02,  1.51880056e-01,  7.14137256e-02,\n",
       "          7.13026151e-02, -2.04904415e-02, -7.28219897e-02,\n",
       "          1.18057713e-01, -1.13628983e-01, -3.05209160e-02,\n",
       "         -2.94512302e-01, -1.03538051e-01,  1.27571568e-01,\n",
       "         -1.48841776e-02,  4.85733658e-01,  3.83013666e-01,\n",
       "          1.59470692e-01, -2.21383318e-01,  2.39469349e-01,\n",
       "          7.61501491e-02,  2.18637623e-02,  2.11439043e-01,\n",
       "         -3.45082521e-01, -2.39904225e-01,  1.52034452e-03,\n",
       "          4.91716973e-02, -6.51139840e-02,  1.89929664e-01,\n",
       "         -4.83059734e-02,  2.23476082e-01,  1.32866293e-01,\n",
       "         -8.21853951e-02, -1.03122786e-01,  2.41667196e-01,\n",
       "         -2.17342712e-02,  1.37901679e-01,  3.18750620e-01,\n",
       "         -1.78347662e-01, -3.38628665e-02, -1.76506385e-01,\n",
       "          2.14239601e-02,  2.36860737e-01,  2.64749736e-01,\n",
       "          2.46685371e-01,  1.99431643e-01, -2.91084379e-01,\n",
       "         -2.45198384e-01,  1.17365882e-01,  2.30137501e-02,\n",
       "          3.06117646e-02,  2.24230960e-01,  1.45886585e-01,\n",
       "          2.13394463e-01, -3.16180885e-02,  1.26462355e-01,\n",
       "         -5.40638976e-02],\n",
       "        [ 2.77951490e-02, -5.93457967e-02,  1.41494855e-01,\n",
       "         -3.81436586e-01, -6.23877645e-02, -1.23574473e-01,\n",
       "          3.00677028e-02, -7.18830619e-04, -1.87957004e-01,\n",
       "         -9.81443003e-02,  2.23646030e-01, -2.39881724e-01,\n",
       "         -1.40638947e-01, -1.00829579e-01, -1.25279441e-01,\n",
       "          5.73316813e-02, -2.57243693e-01,  6.48373961e-02,\n",
       "         -1.83515936e-01,  4.06361520e-01, -2.01726258e-01,\n",
       "         -3.36346447e-01, -1.24025963e-01, -1.32497340e-01,\n",
       "          2.22885117e-01,  1.92309812e-01,  2.04034284e-01,\n",
       "          1.59453109e-01, -7.59112984e-02, -1.33606315e-01,\n",
       "          2.20078342e-02,  9.58608184e-03,  3.55721563e-02,\n",
       "         -2.45061085e-01,  2.59238303e-01,  2.43714914e-01,\n",
       "         -5.08814827e-02,  3.17295909e-01, -3.16598304e-02,\n",
       "          4.30919550e-04, -1.61645845e-01,  4.78245616e-02,\n",
       "         -2.68120676e-01, -1.60858333e-02,  1.65809318e-01,\n",
       "          1.57737091e-01,  2.02258661e-01, -1.99928641e-01,\n",
       "         -1.41012892e-01, -3.38388979e-01, -2.00116232e-01,\n",
       "         -1.61326945e-01, -2.14920148e-01, -7.53657818e-02,\n",
       "         -2.78626025e-01, -5.54977059e-02,  1.97828874e-01,\n",
       "         -4.04815644e-01, -1.71484098e-01, -4.72975560e-02,\n",
       "          6.17484562e-02,  1.97283879e-01, -1.62011847e-01,\n",
       "          3.15067053e-01]], dtype=float32)>,\n",
       " <tf.Variable 'dense_5/bias:0' shape=(64,) dtype=float32, numpy=\n",
       " array([ 0.18975618,  0.22639012,  0.10003586,  0.10387149,  0.15179847,\n",
       "         0.05754341,  0.19620289,  0.10883882,  0.1466322 ,  0.06432583,\n",
       "         0.19655901,  0.07011008,  0.15446098,  0.2351227 ,  0.17482126,\n",
       "         0.09510101,  0.21815267,  0.1997123 ,  0.10812321, -0.06604008,\n",
       "         0.06593603,  0.15253834,  0.22956383,  0.15782087,  0.13175435,\n",
       "         0.09909765,  0.05882634,  0.15723555,  0.22118104,  0.13299213,\n",
       "        -0.08218491,  0.08453619,  0.12605786,  0.00489111,  0.17011248,\n",
       "         0.08128817, -0.03699459,  0.20579827,  0.07877921,  0.23810299,\n",
       "         0.16705787,  0.12852621,  0.04939104,  0.06342494,  0.20828809,\n",
       "         0.2013286 ,  0.1305206 , -0.02178838,  0.19638894,  0.11579064,\n",
       "         0.20075583,  0.10280684,  0.0858861 ,  0.2382353 ,  0.14418548,\n",
       "         0.15718503,  0.10295237,  0.07530825,  0.18041514,  0.20615472,\n",
       "         0.20153935,  0.14055248,  0.12325732,  0.22982542], dtype=float32)>,\n",
       " <tf.Variable 'dense_6/kernel:0' shape=(64, 64) dtype=float32, numpy=\n",
       " array([[ 6.99122548e-02, -1.02235794e-01,  1.91865876e-01, ...,\n",
       "          2.39349622e-02,  1.87852144e-01,  1.17070995e-01],\n",
       "        [ 3.46989483e-02,  6.27865940e-02,  2.12491080e-02, ...,\n",
       "         -1.34307775e-04, -3.32260579e-02, -2.20182776e-01],\n",
       "        [-6.86155111e-02,  3.46683301e-02,  2.58369893e-01, ...,\n",
       "         -8.56748447e-02,  1.87436268e-01, -1.21640839e-01],\n",
       "        ...,\n",
       "        [-2.45829865e-01,  4.10339236e-02,  2.77004004e-01, ...,\n",
       "          6.69747517e-02,  2.89468199e-01,  7.13319033e-02],\n",
       "        [-2.52882570e-01, -1.93394989e-01,  4.70419899e-02, ...,\n",
       "          1.41190425e-01,  2.68714815e-01, -1.08254412e-02],\n",
       "        [ 5.56073822e-02, -3.31931412e-02, -7.13174865e-02, ...,\n",
       "          2.01748684e-01,  1.91424191e-01,  7.87458122e-02]], dtype=float32)>,\n",
       " <tf.Variable 'dense_6/bias:0' shape=(64,) dtype=float32, numpy=\n",
       " array([-0.05062607, -0.02911661,  0.1513389 ,  0.13120061,  0.14488871,\n",
       "        -0.04056733,  0.15018831,  0.01848828, -0.0703729 , -0.0268262 ,\n",
       "         0.13774735,  0.13130854,  0.02251787,  0.08623795,  0.15515733,\n",
       "         0.13409959, -0.06122135, -0.01308971,  0.14595279, -0.0395124 ,\n",
       "         0.17776732, -0.07241278,  0.15547043,  0.13455085, -0.03826185,\n",
       "         0.1396603 ,  0.13117906,  0.17313921,  0.15163343, -0.02990498,\n",
       "        -0.03007825,  0.14720567, -0.02980115,  0.14525723,  0.15654331,\n",
       "        -0.02213563,  0.15754612, -0.02587443,  0.14471143,  0.12890987,\n",
       "        -0.05076794, -0.03086897, -0.03586531, -0.03313338,  0.14714743,\n",
       "         0.14422923, -0.04590343, -0.01105607,  0.14397863,  0.12853445,\n",
       "         0.1400242 ,  0.13950635,  0.14570342, -0.03217433, -0.03322274,\n",
       "         0.1428131 , -0.00169248, -0.02031228, -0.0340689 ,  0.16647674,\n",
       "        -0.04927061,  0.13796021,  0.14691477, -0.04332772], dtype=float32)>,\n",
       " <tf.Variable 'dense_7/kernel:0' shape=(64, 1) dtype=float32, numpy=\n",
       " array([[-0.07993057],\n",
       "        [-0.18749015],\n",
       "        [ 0.42311525],\n",
       "        [ 0.31783488],\n",
       "        [ 0.17596056],\n",
       "        [-0.40379763],\n",
       "        [ 0.15846434],\n",
       "        [-0.55785966],\n",
       "        [-0.35629165],\n",
       "        [-0.4638829 ],\n",
       "        [ 0.4043444 ],\n",
       "        [ 0.2898502 ],\n",
       "        [ 0.2652202 ],\n",
       "        [ 0.12217934],\n",
       "        [ 0.19179189],\n",
       "        [ 0.42384988],\n",
       "        [-0.19087264],\n",
       "        [-0.36013988],\n",
       "        [ 0.15388809],\n",
       "        [-0.2985426 ],\n",
       "        [ 0.20898582],\n",
       "        [-0.30656165],\n",
       "        [ 0.20009233],\n",
       "        [ 0.3184678 ],\n",
       "        [-0.25230297],\n",
       "        [ 0.40568012],\n",
       "        [ 0.2515221 ],\n",
       "        [ 0.15167572],\n",
       "        [ 0.36531684],\n",
       "        [-0.13617925],\n",
       "        [-0.1810606 ],\n",
       "        [ 0.24897271],\n",
       "        [-0.24998596],\n",
       "        [ 0.24569285],\n",
       "        [ 0.12533171],\n",
       "        [-0.29829597],\n",
       "        [ 0.44228217],\n",
       "        [-0.27396354],\n",
       "        [ 0.18699186],\n",
       "        [ 0.37817374],\n",
       "        [-0.1702798 ],\n",
       "        [-0.11001018],\n",
       "        [-0.1586743 ],\n",
       "        [-0.08957554],\n",
       "        [ 0.40175527],\n",
       "        [ 0.13951789],\n",
       "        [-0.05870395],\n",
       "        [-0.41134277],\n",
       "        [ 0.32153815],\n",
       "        [ 0.39028963],\n",
       "        [ 0.40194353],\n",
       "        [ 0.22204739],\n",
       "        [ 0.37054548],\n",
       "        [-0.04760805],\n",
       "        [-0.09261263],\n",
       "        [ 0.22007594],\n",
       "        [-0.18400815],\n",
       "        [-0.4711723 ],\n",
       "        [-0.36942267],\n",
       "        [ 0.17296258],\n",
       "        [-0.26476428],\n",
       "        [ 0.2839626 ],\n",
       "        [ 0.1845519 ],\n",
       "        [-0.18505   ]], dtype=float32)>,\n",
       " <tf.Variable 'dense_7/bias:0' shape=(1,) dtype=float32, numpy=array([0.11668599], dtype=float32)>]"
      ]
     },
     "execution_count": 50,
     "metadata": {},
     "output_type": "execute_result"
    }
   ],
   "source": [
    "dnn_model.weights"
   ]
  },
  {
   "cell_type": "code",
   "execution_count": null,
   "id": "7eb18d56-3043-4b1e-bea7-736244983f2a",
   "metadata": {},
   "outputs": [],
   "source": []
  },
  {
   "cell_type": "code",
   "execution_count": 45,
   "id": "37f3a660-9741-40b9-8ce3-e9c0a679602c",
   "metadata": {
    "collapsed": true,
    "jupyter": {
     "outputs_hidden": true
    },
    "tags": []
   },
   "outputs": [
    {
     "name": "stdout",
     "output_type": "stream",
     "text": [
      "Epoch 1/100\n",
      "11/11 [==============================] - 1s 59ms/step - loss: 22.4567 - val_loss: 22.7219\n",
      "Epoch 2/100\n",
      "11/11 [==============================] - 0s 10ms/step - loss: 20.9148 - val_loss: 21.5061\n",
      "Epoch 3/100\n",
      "11/11 [==============================] - 0s 14ms/step - loss: 20.2961 - val_loss: 19.9873\n",
      "Epoch 4/100\n",
      "11/11 [==============================] - 0s 10ms/step - loss: 17.8443 - val_loss: 17.9905\n",
      "Epoch 5/100\n",
      "11/11 [==============================] - 0s 10ms/step - loss: 16.4014 - val_loss: 15.5816\n",
      "Epoch 6/100\n",
      "11/11 [==============================] - 0s 10ms/step - loss: 13.5464 - val_loss: 12.7293\n",
      "Epoch 7/100\n",
      "11/11 [==============================] - 0s 9ms/step - loss: 11.0596 - val_loss: 9.5481\n",
      "Epoch 8/100\n",
      "11/11 [==============================] - 0s 10ms/step - loss: 8.0034 - val_loss: 7.1565\n",
      "Epoch 9/100\n",
      "11/11 [==============================] - 0s 9ms/step - loss: 6.7619 - val_loss: 6.0985\n",
      "Epoch 10/100\n",
      "11/11 [==============================] - 0s 10ms/step - loss: 5.8448 - val_loss: 5.2543\n",
      "Epoch 11/100\n",
      "11/11 [==============================] - 0s 10ms/step - loss: 5.0080 - val_loss: 4.5795\n",
      "Epoch 12/100\n",
      "11/11 [==============================] - 0s 11ms/step - loss: 4.2340 - val_loss: 4.0375\n",
      "Epoch 13/100\n",
      "11/11 [==============================] - 0s 10ms/step - loss: 3.8724 - val_loss: 3.6047\n",
      "Epoch 14/100\n",
      "11/11 [==============================] - 0s 10ms/step - loss: 3.3869 - val_loss: 3.4135\n",
      "Epoch 15/100\n",
      "11/11 [==============================] - 0s 10ms/step - loss: 3.1009 - val_loss: 3.3703\n",
      "Epoch 16/100\n",
      "11/11 [==============================] - 0s 10ms/step - loss: 3.0967 - val_loss: 3.2775\n",
      "Epoch 17/100\n",
      "11/11 [==============================] - 0s 11ms/step - loss: 3.0001 - val_loss: 3.2172\n",
      "Epoch 18/100\n",
      "11/11 [==============================] - 0s 12ms/step - loss: 3.1314 - val_loss: 3.2352\n",
      "Epoch 19/100\n",
      "11/11 [==============================] - 0s 11ms/step - loss: 3.0459 - val_loss: 3.1720\n",
      "Epoch 20/100\n",
      "11/11 [==============================] - 0s 11ms/step - loss: 2.7864 - val_loss: 3.2248\n",
      "Epoch 21/100\n",
      "11/11 [==============================] - 0s 11ms/step - loss: 2.7971 - val_loss: 3.1361\n",
      "Epoch 22/100\n",
      "11/11 [==============================] - 0s 10ms/step - loss: 2.8828 - val_loss: 3.1263\n",
      "Epoch 23/100\n",
      "11/11 [==============================] - 0s 8ms/step - loss: 2.6078 - val_loss: 3.0679\n",
      "Epoch 24/100\n",
      "11/11 [==============================] - 0s 9ms/step - loss: 2.7356 - val_loss: 3.0311\n",
      "Epoch 25/100\n",
      "11/11 [==============================] - ETA: 0s - loss: 1.765 - 0s 8ms/step - loss: 2.4811 - val_loss: 3.0291\n",
      "Epoch 26/100\n",
      "11/11 [==============================] - 0s 9ms/step - loss: 2.6154 - val_loss: 3.0073\n",
      "Epoch 27/100\n",
      "11/11 [==============================] - 0s 9ms/step - loss: 2.5372 - val_loss: 3.1322\n",
      "Epoch 28/100\n",
      "11/11 [==============================] - 0s 8ms/step - loss: 2.6243 - val_loss: 2.9766\n",
      "Epoch 29/100\n",
      "11/11 [==============================] - 0s 10ms/step - loss: 2.5738 - val_loss: 2.8952\n",
      "Epoch 30/100\n",
      "11/11 [==============================] - 0s 9ms/step - loss: 2.4631 - val_loss: 2.8714\n",
      "Epoch 31/100\n",
      "11/11 [==============================] - 0s 11ms/step - loss: 2.5766 - val_loss: 2.9140\n",
      "Epoch 32/100\n",
      "11/11 [==============================] - 0s 10ms/step - loss: 2.4417 - val_loss: 2.7759\n",
      "Epoch 33/100\n",
      "11/11 [==============================] - 0s 23ms/step - loss: 2.4825 - val_loss: 2.7866\n",
      "Epoch 34/100\n",
      "11/11 [==============================] - 0s 9ms/step - loss: 2.2322 - val_loss: 2.8033\n",
      "Epoch 35/100\n",
      "11/11 [==============================] - 0s 10ms/step - loss: 2.2547 - val_loss: 2.7815\n",
      "Epoch 36/100\n",
      "11/11 [==============================] - 0s 10ms/step - loss: 2.6667 - val_loss: 2.7667\n",
      "Epoch 37/100\n",
      "11/11 [==============================] - 0s 9ms/step - loss: 2.2385 - val_loss: 2.7531\n",
      "Epoch 38/100\n",
      "11/11 [==============================] - 0s 10ms/step - loss: 2.6780 - val_loss: 2.7584\n",
      "Epoch 39/100\n",
      "11/11 [==============================] - 0s 9ms/step - loss: 2.4456 - val_loss: 2.7839\n",
      "Epoch 40/100\n",
      "11/11 [==============================] - 0s 9ms/step - loss: 2.2969 - val_loss: 2.7251\n",
      "Epoch 41/100\n",
      "11/11 [==============================] - 0s 10ms/step - loss: 2.2503 - val_loss: 2.6847\n",
      "Epoch 42/100\n",
      "11/11 [==============================] - 0s 8ms/step - loss: 2.5393 - val_loss: 2.7368\n",
      "Epoch 43/100\n",
      "11/11 [==============================] - 0s 10ms/step - loss: 2.7198 - val_loss: 2.6630\n",
      "Epoch 44/100\n",
      "11/11 [==============================] - 0s 15ms/step - loss: 2.3231 - val_loss: 2.7184\n",
      "Epoch 45/100\n",
      "11/11 [==============================] - 0s 15ms/step - loss: 2.1275 - val_loss: 2.6255\n",
      "Epoch 46/100\n",
      "11/11 [==============================] - 0s 12ms/step - loss: 2.3441 - val_loss: 2.6538\n",
      "Epoch 47/100\n",
      "11/11 [==============================] - 0s 15ms/step - loss: 2.1642 - val_loss: 2.6493\n",
      "Epoch 48/100\n",
      "11/11 [==============================] - 0s 12ms/step - loss: 2.2716 - val_loss: 2.6595\n",
      "Epoch 49/100\n",
      "11/11 [==============================] - 0s 10ms/step - loss: 2.4070 - val_loss: 2.6621\n",
      "Epoch 50/100\n",
      "11/11 [==============================] - 0s 11ms/step - loss: 2.2229 - val_loss: 2.6149\n",
      "Epoch 51/100\n",
      "11/11 [==============================] - 0s 15ms/step - loss: 2.4357 - val_loss: 2.7269\n",
      "Epoch 52/100\n",
      "11/11 [==============================] - 0s 15ms/step - loss: 2.1089 - val_loss: 2.6144\n",
      "Epoch 53/100\n",
      "11/11 [==============================] - 0s 12ms/step - loss: 2.2038 - val_loss: 2.6701\n",
      "Epoch 54/100\n",
      "11/11 [==============================] - 0s 13ms/step - loss: 2.2087 - val_loss: 2.6793\n",
      "Epoch 55/100\n",
      "11/11 [==============================] - 0s 13ms/step - loss: 2.2561 - val_loss: 2.5719\n",
      "Epoch 56/100\n",
      "11/11 [==============================] - 0s 12ms/step - loss: 2.1746 - val_loss: 2.7240\n",
      "Epoch 57/100\n",
      "11/11 [==============================] - 0s 15ms/step - loss: 2.1550 - val_loss: 2.6311\n",
      "Epoch 58/100\n",
      "11/11 [==============================] - 0s 11ms/step - loss: 2.2483 - val_loss: 2.5845\n",
      "Epoch 59/100\n",
      "11/11 [==============================] - 0s 10ms/step - loss: 2.1321 - val_loss: 2.6285\n",
      "Epoch 60/100\n",
      "11/11 [==============================] - 0s 10ms/step - loss: 2.2216 - val_loss: 2.6813\n",
      "Epoch 61/100\n",
      "11/11 [==============================] - 0s 15ms/step - loss: 2.2753 - val_loss: 2.6200\n",
      "Epoch 62/100\n",
      "11/11 [==============================] - 0s 10ms/step - loss: 2.3665 - val_loss: 2.6383\n",
      "Epoch 63/100\n",
      "11/11 [==============================] - 0s 11ms/step - loss: 2.0890 - val_loss: 2.6413\n",
      "Epoch 64/100\n",
      "11/11 [==============================] - 0s 9ms/step - loss: 2.1216 - val_loss: 2.5920\n",
      "Epoch 65/100\n",
      "11/11 [==============================] - 0s 10ms/step - loss: 2.2753 - val_loss: 2.5899\n",
      "Epoch 66/100\n",
      "11/11 [==============================] - 0s 10ms/step - loss: 2.1843 - val_loss: 2.5955\n",
      "Epoch 67/100\n",
      "11/11 [==============================] - 0s 14ms/step - loss: 1.9838 - val_loss: 2.5354\n",
      "Epoch 68/100\n",
      "11/11 [==============================] - 0s 15ms/step - loss: 2.2672 - val_loss: 2.6270\n",
      "Epoch 69/100\n",
      "11/11 [==============================] - 0s 10ms/step - loss: 2.0554 - val_loss: 2.6102\n",
      "Epoch 70/100\n",
      "11/11 [==============================] - 0s 10ms/step - loss: 2.0268 - val_loss: 2.5386\n",
      "Epoch 71/100\n",
      "11/11 [==============================] - 0s 38ms/step - loss: 1.9762 - val_loss: 2.6109\n",
      "Epoch 72/100\n",
      "11/11 [==============================] - 0s 15ms/step - loss: 2.2017 - val_loss: 2.5870\n",
      "Epoch 73/100\n",
      "11/11 [==============================] - 0s 13ms/step - loss: 1.9179 - val_loss: 2.5776\n",
      "Epoch 74/100\n",
      "11/11 [==============================] - 0s 12ms/step - loss: 1.9359 - val_loss: 2.5969\n",
      "Epoch 75/100\n",
      "11/11 [==============================] - 0s 15ms/step - loss: 2.0919 - val_loss: 2.5622\n",
      "Epoch 76/100\n",
      "11/11 [==============================] - 0s 16ms/step - loss: 1.9852 - val_loss: 2.6125\n",
      "Epoch 77/100\n",
      "11/11 [==============================] - 0s 17ms/step - loss: 2.0176 - val_loss: 2.5498\n",
      "Epoch 78/100\n",
      "11/11 [==============================] - 0s 11ms/step - loss: 2.0256 - val_loss: 2.5820\n",
      "Epoch 79/100\n",
      "11/11 [==============================] - 0s 10ms/step - loss: 2.0810 - val_loss: 2.5786\n",
      "Epoch 80/100\n",
      "11/11 [==============================] - 0s 9ms/step - loss: 2.0491 - val_loss: 2.5720\n",
      "Epoch 81/100\n",
      "11/11 [==============================] - 0s 10ms/step - loss: 2.0389 - val_loss: 2.5771\n",
      "Epoch 82/100\n",
      "11/11 [==============================] - 0s 9ms/step - loss: 2.0703 - val_loss: 2.6398\n",
      "Epoch 83/100\n",
      "11/11 [==============================] - 0s 8ms/step - loss: 1.9992 - val_loss: 2.5649\n",
      "Epoch 84/100\n",
      "11/11 [==============================] - 0s 10ms/step - loss: 2.2635 - val_loss: 2.5906\n",
      "Epoch 85/100\n",
      "11/11 [==============================] - 0s 9ms/step - loss: 2.0542 - val_loss: 2.5916\n",
      "Epoch 86/100\n",
      "11/11 [==============================] - 0s 9ms/step - loss: 2.0231 - val_loss: 2.5584\n",
      "Epoch 87/100\n",
      "11/11 [==============================] - 0s 9ms/step - loss: 2.0471 - val_loss: 2.5415\n",
      "Epoch 88/100\n",
      "11/11 [==============================] - 0s 9ms/step - loss: 2.0910 - val_loss: 2.5326\n",
      "Epoch 89/100\n",
      "11/11 [==============================] - 0s 9ms/step - loss: 1.9454 - val_loss: 2.5200\n",
      "Epoch 90/100\n",
      "11/11 [==============================] - 0s 8ms/step - loss: 2.1201 - val_loss: 2.5526\n",
      "Epoch 91/100\n",
      "11/11 [==============================] - 0s 10ms/step - loss: 2.2090 - val_loss: 2.4915\n",
      "Epoch 92/100\n",
      "11/11 [==============================] - 0s 9ms/step - loss: 2.0466 - val_loss: 2.5702\n",
      "Epoch 93/100\n",
      "11/11 [==============================] - 0s 8ms/step - loss: 1.8331 - val_loss: 2.5298\n",
      "Epoch 94/100\n",
      "11/11 [==============================] - 0s 8ms/step - loss: 1.8555 - val_loss: 2.4806\n",
      "Epoch 95/100\n",
      "11/11 [==============================] - 0s 7ms/step - loss: 1.9837 - val_loss: 2.5417\n",
      "Epoch 96/100\n",
      "11/11 [==============================] - 0s 8ms/step - loss: 1.9747 - val_loss: 2.5326\n",
      "Epoch 97/100\n",
      "11/11 [==============================] - 0s 9ms/step - loss: 1.7550 - val_loss: 2.4912\n",
      "Epoch 98/100\n",
      "11/11 [==============================] - 0s 10ms/step - loss: 2.0291 - val_loss: 2.5489\n",
      "Epoch 99/100\n",
      "11/11 [==============================] - 0s 8ms/step - loss: 2.0121 - val_loss: 2.5390\n",
      "Epoch 100/100\n",
      "11/11 [==============================] - 0s 7ms/step - loss: 1.9363 - val_loss: 2.5073\n"
     ]
    }
   ],
   "source": [
    "history = dnn_model.fit(\n",
    "    train_features, train_labels,\n",
    "    epochs=100,\n",
    "    callbacks=[tf.keras.callbacks.TensorBoard(log_dir='tutorial_regresion/linear_model', histogram_freq=1)],\n",
    "    validation_split = 0.2\n",
    ")"
   ]
  },
  {
   "cell_type": "code",
   "execution_count": 46,
   "id": "624b5787-5a17-48dd-8aad-b2616f89124f",
   "metadata": {},
   "outputs": [
    {
     "data": {
      "text/plain": [
       "<AxesSubplot:xlabel='epoch'>"
      ]
     },
     "execution_count": 46,
     "metadata": {},
     "output_type": "execute_result"
    },
    {
     "data": {
      "image/png": "[encoded data removed]",
      "text/plain": [
       "<Figure size 432x288 with 1 Axes>"
      ]
     },
     "metadata": {
      "needs_background": "light"
     },
     "output_type": "display_data"
    }
   ],
   "source": [
    "hist = pd.DataFrame(history.history)\n",
    "hist['epoch'] = history.epoch\n",
    "hist = hist.set_index('epoch')\n",
    "hist.plot(grid=True)"
   ]
  },
  {
   "cell_type": "code",
   "execution_count": 47,
   "id": "2d7f8ac3-3adc-48fa-93fd-7095023582dd",
   "metadata": {},
   "outputs": [],
   "source": [
    "test_results.loc['dnn_model','test'] = dnn_model.evaluate(test_features, test_labels, verbose=0)\n",
    "test_results.loc['dnn_model','train'] = dnn_model.evaluate(train_features, train_labels, verbose=0)"
   ]
  },
  {
   "cell_type": "code",
   "execution_count": 48,
   "id": "1cfd1943-6c31-4010-a868-16378db76e8c",
   "metadata": {},
   "outputs": [
    {
     "data": {
      "text/html": [
       "<div>\n",
       "<style scoped>\n",
       "    .dataframe tbody tr th:only-of-type {\n",
       "        vertical-align: middle;\n",
       "    }\n",
       "\n",
       "    .dataframe tbody tr th {\n",
       "        vertical-align: top;\n",
       "    }\n",
       "\n",
       "    .dataframe thead th {\n",
       "        text-align: right;\n",
       "    }\n",
       "</style>\n",
       "<table border=\"1\" class=\"dataframe\">\n",
       "  <thead>\n",
       "    <tr style=\"text-align: right;\">\n",
       "      <th></th>\n",
       "      <th>train</th>\n",
       "      <th>test</th>\n",
       "    </tr>\n",
       "  </thead>\n",
       "  <tbody>\n",
       "    <tr>\n",
       "      <th>linear_one_model</th>\n",
       "      <td>4.285994</td>\n",
       "      <td>4.238972</td>\n",
       "    </tr>\n",
       "    <tr>\n",
       "      <th>linear_model</th>\n",
       "      <td>3.192941</td>\n",
       "      <td>2.874807</td>\n",
       "    </tr>\n",
       "    <tr>\n",
       "      <th>deep_one_model</th>\n",
       "      <td>3.884676</td>\n",
       "      <td>4.062861</td>\n",
       "    </tr>\n",
       "    <tr>\n",
       "      <th>dnn_model</th>\n",
       "      <td>2.029016</td>\n",
       "      <td>2.238849</td>\n",
       "    </tr>\n",
       "  </tbody>\n",
       "</table>\n",
       "</div>"
      ],
      "text/plain": [
       "                     train      test\n",
       "linear_one_model  4.285994  4.238972\n",
       "linear_model      3.192941  2.874807\n",
       "deep_one_model    3.884676  4.062861\n",
       "dnn_model         2.029016  2.238849"
      ]
     },
     "execution_count": 48,
     "metadata": {},
     "output_type": "execute_result"
    }
   ],
   "source": [
    "test_results"
   ]
  },
  {
   "cell_type": "code",
   "execution_count": 49,
   "id": "5fcb7aca-5366-49ac-b9e9-9847cd868a36",
   "metadata": {},
   "outputs": [
    {
     "data": {
      "text/plain": [
       "<AxesSubplot:>"
      ]
     },
     "execution_count": 49,
     "metadata": {},
     "output_type": "execute_result"
    },
    {
     "data": {
      "image/png": "[encoded data removed]",
      "text/plain": [
       "<Figure size 432x288 with 1 Axes>"
      ]
     },
     "metadata": {
      "needs_background": "light"
     },
     "output_type": "display_data"
    }
   ],
   "source": [
    "test_results.T.plot.bar()"
   ]
  },
  {
   "cell_type": "code",
   "execution_count": 51,
   "id": "4dc37b45-f53d-4667-924a-7cadc127fef1",
   "metadata": {},
   "outputs": [
    {
     "data": {
      "text/plain": [
       "[<matplotlib.lines.Line2D at 0x156f11a20>]"
      ]
     },
     "execution_count": 51,
     "metadata": {},
     "output_type": "execute_result"
    },
    {
     "data": {
      "image/png": "[encoded data removed]",
      "text/plain": [
       "<Figure size 720x720 with 1 Axes>"
      ]
     },
     "metadata": {
      "needs_background": "light"
     },
     "output_type": "display_data"
    }
   ],
   "source": [
    "test_predictions = dnn_model.predict(test_features).flatten()\n",
    "\n",
    "fig, ax = plt.subplots(figsize=(10,10))\n",
    "ax.scatter(test_labels, test_predictions)\n",
    "ax.set_xlabel('True Values')\n",
    "ax.set_ylabel('Predictions')\n",
    "lims = [0, test_labels.max()]\n",
    "ax.set_xlim(lims)\n",
    "ax.set_ylim(lims)\n",
    "ax.plot(lims, lims)"
   ]
  },
  {
   "cell_type": "code",
   "execution_count": null,
   "id": "43545925-070c-4a12-bcb0-5b860872aa52",
   "metadata": {},
   "outputs": [],
   "source": []
  }
 ],
 "metadata": {
  "kernelspec": {
   "display_name": "Python 3",
   "language": "python",
   "name": "python3"
  },
  "language_info": {
   "codemirror_mode": {
    "name": "ipython",
    "version": 3
   },
   "file_extension": ".py",
   "mimetype": "text/x-python",
   "name": "python",
   "nbconvert_exporter": "python",
   "pygments_lexer": "ipython3",
   "version": "3.7.3"
  }
 },
 "nbformat": 4,
 "nbformat_minor": 5
}
