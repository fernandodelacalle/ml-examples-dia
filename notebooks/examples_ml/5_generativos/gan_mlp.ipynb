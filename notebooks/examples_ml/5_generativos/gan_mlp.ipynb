{
 "cells": [
  {
   "cell_type": "markdown",
   "id": "425fabbd-0c19-4232-9c6e-f9dc35826587",
   "metadata": {},
   "source": [
    "# Generative adversarial network (GAN)"
   ]
  },
  {
   "cell_type": "markdown",
   "id": "9fa86a55-e071-456e-9c01-1b036cad4d0c",
   "metadata": {},
   "source": [
    "![alt text](gan.png \"Title\")"
   ]
  },
  {
   "cell_type": "code",
   "execution_count": null,
   "id": "5961c775-e1f6-4f83-a20d-abe459c25d15",
   "metadata": {},
   "outputs": [],
   "source": [
    "import numpy as np\n",
    "import matplotlib.pyplot as plt\n",
    "import random\n",
    "\n",
    "from tensorflow import keras\n",
    "from tensorflow.keras import layers"
   ]
  },
  {
   "cell_type": "code",
   "execution_count": null,
   "id": "96333d3e-7354-4e63-90f0-4ea6aefecfa5",
   "metadata": {},
   "outputs": [],
   "source": [
    "(X_train, Y_train), (X_test, Y_test) = keras.datasets.mnist.load_data()"
   ]
  },
  {
   "cell_type": "code",
   "execution_count": null,
   "id": "c1d988f4-0827-403d-8025-eab212aa3831",
   "metadata": {},
   "outputs": [],
   "source": [
    "X_train = X_train.reshape(60000, 784)\n",
    "X_test = X_test.reshape(10000, 784)\n",
    "X_train = X_train.astype('float32')/255\n",
    "X_test = X_test.astype('float32')/255"
   ]
  },
  {
   "cell_type": "code",
   "execution_count": null,
   "id": "f9a989e0-2a21-44a0-a18b-0a8382394cff",
   "metadata": {},
   "outputs": [],
   "source": [
    "# Set the dimensions of the noise\n",
    "z_dim = 100"
   ]
  },
  {
   "cell_type": "code",
   "execution_count": null,
   "id": "0d1280bf-db7a-4530-8f89-ade3e23e6cb1",
   "metadata": {},
   "outputs": [],
   "source": [
    "adam = keras.optimizers.Adam(learning_rate=0.0002, beta_1=0.5)"
   ]
  },
  {
   "cell_type": "code",
   "execution_count": null,
   "id": "a3b0acd2-41dc-471d-b5f0-2e7d513f9119",
   "metadata": {},
   "outputs": [],
   "source": [
    "# Generador\n",
    "g = keras.models.Sequential()\n",
    "g.add(keras.layers.Dense(256, input_dim=z_dim, activation=keras.layers.LeakyReLU(alpha=0.2)))\n",
    "g.add(keras.layers.Dense(512, activation=keras.layers.LeakyReLU(alpha=0.2)))\n",
    "g.add(keras.layers.Dense(1024, activation=keras.layers.LeakyReLU(alpha=0.2)))\n",
    "g.add(keras.layers.Dense(784, activation='sigmoid'))  # Values between 0 and 1\n",
    "g.compile(loss='binary_crossentropy', optimizer=adam, metrics=['accuracy'])"
   ]
  },
  {
   "cell_type": "code",
   "execution_count": null,
   "id": "88d4f654-181f-416e-a751-fb6d19acec30",
   "metadata": {},
   "outputs": [],
   "source": [
    "g.summary()"
   ]
  },
  {
   "cell_type": "code",
   "execution_count": null,
   "id": "008aafd4-8aad-4a9c-9596-613f9c6c9b9f",
   "metadata": {},
   "outputs": [],
   "source": [
    "# Discriminador\n",
    "d = keras.models.Sequential()\n",
    "d.add(keras.layers.Dense(1024, input_dim=784, activation=keras.layers.LeakyReLU(alpha=0.2)))\n",
    "d.add(keras.layers.Dropout(0.3))\n",
    "d.add(keras.layers.Dense(512, activation=keras.layers.LeakyReLU(alpha=0.2)))\n",
    "d.add(keras.layers.Dropout(0.3))\n",
    "d.add(keras.layers.Dense(256, activation=keras.layers.LeakyReLU(alpha=0.2)))\n",
    "d.add(keras.layers.Dropout(0.3))\n",
    "d.add(keras.layers.Dense(1, activation='sigmoid'))  # Values between 0 and 1\n",
    "d.compile(loss='binary_crossentropy', optimizer=adam, metrics=['accuracy'])\n",
    "d.trainable = False"
   ]
  },
  {
   "cell_type": "code",
   "execution_count": null,
   "id": "c18671a9-b993-488c-be0f-72642cad6758",
   "metadata": {},
   "outputs": [],
   "source": [
    "d.summary()"
   ]
  },
  {
   "cell_type": "code",
   "execution_count": null,
   "id": "621c4cd0-f5d9-44e4-a302-e2f34e12400e",
   "metadata": {},
   "outputs": [],
   "source": [
    "inputs = keras.layers.Input(shape=(z_dim, ))\n",
    "hidden = g(inputs)\n",
    "output = d(hidden)\n",
    "gan = keras.models.Model(inputs, output)\n",
    "gan.compile(loss='binary_crossentropy', optimizer=adam, metrics=['accuracy'])"
   ]
  },
  {
   "cell_type": "code",
   "execution_count": null,
   "id": "b649a11a-c68a-4351-bb45-459cea69b88c",
   "metadata": {},
   "outputs": [],
   "source": [
    "def plot_loss(losses):\n",
    "    \"\"\"\n",
    "    @losses.keys():\n",
    "        0: loss\n",
    "        1: accuracy\n",
    "    \"\"\"\n",
    "    d_loss = [v[0] for v in losses[\"D\"]]\n",
    "    g_loss = [v[0] for v in losses[\"G\"]]\n",
    "    #d_acc = [v[1] for v in losses[\"D\"]]\n",
    "    #g_acc = [v[1] for v in losses[\"G\"]]\n",
    "    \n",
    "    plt.figure(figsize=(10,8))\n",
    "    plt.plot(d_loss, label=\"Discriminator loss\")\n",
    "    plt.plot(g_loss, label=\"Generator loss\")\n",
    "    #plt.plot(d_acc, label=\"Discriminator accuracy\")\n",
    "    #plt.plot(g_acc, label=\"Generator accuracy\")\n",
    "    plt.xlabel('Epochs')\n",
    "    plt.ylabel('Loss')\n",
    "    plt.legend()\n",
    "    plt.show()\n",
    "    \n",
    "def plot_generated(n_ex=10, dim=(1, 10), figsize=(12, 2)):\n",
    "    noise = np.random.normal(0, 1, size=(n_ex, z_dim))\n",
    "    generated_images = g.predict(noise)\n",
    "    generated_images = generated_images.reshape(n_ex, 28, 28)\n",
    "\n",
    "    plt.figure(figsize=figsize)\n",
    "    for i in range(generated_images.shape[0]):\n",
    "        plt.subplot(dim[0], dim[1], i+1)\n",
    "        plt.imshow(generated_images[i], interpolation='nearest', cmap='gray_r')\n",
    "        plt.axis('off')\n",
    "    plt.tight_layout()\n",
    "    plt.show()"
   ]
  },
  {
   "cell_type": "code",
   "execution_count": null,
   "id": "d163362a-96b4-48a2-b5ac-fa6d0009dcf1",
   "metadata": {},
   "outputs": [],
   "source": [
    "# Set up a vector (dict) to store the losses\n",
    "losses = {\"D\":[], \"G\":[]}\n",
    "\n",
    "def train(epochs=1, plt_frq=1, BATCH_SIZE=128):\n",
    "    batchCount = int(X_train.shape[0] / BATCH_SIZE)\n",
    "    print('Epochs:', epochs)\n",
    "    print('Batch size:', BATCH_SIZE)\n",
    "    print('Batches per epoch:', batchCount)\n",
    "    \n",
    "    for e in range(1, epochs+1):\n",
    "        if e == 1 or e%plt_frq == 0:\n",
    "            print('-'*15, 'Epoch %d' % e, '-'*15)\n",
    "        for _ in range(batchCount):\n",
    "            # Create a batch by drawing random index numbers from the training set\n",
    "            image_batch = X_train[np.random.randint(0, X_train.shape[0], size=BATCH_SIZE)]\n",
    "            # Create noise vectors for the generator\n",
    "            noise = np.random.normal(0, 1, size=(BATCH_SIZE, z_dim))\n",
    "            # Generate the images from the noise\n",
    "            generated_images = g.predict(noise)\n",
    "            X = np.concatenate((image_batch, generated_images))\n",
    "            # Create labels\n",
    "            y = np.zeros(2*BATCH_SIZE)\n",
    "            y[:BATCH_SIZE] = 0.9  # One-sided label smoothing\n",
    "\n",
    "            # Train discriminator on generated images\n",
    "            d.trainable = True\n",
    "            d_loss = d.train_on_batch(X, y)\n",
    "            # Train generator\n",
    "            noise = np.random.normal(0, 1, size=(BATCH_SIZE, z_dim))\n",
    "            y2 = np.ones(BATCH_SIZE)\n",
    "            d.trainable = False\n",
    "            g_loss = gan.train_on_batch(noise, y2)\n",
    "\n",
    "        # Only store losses from final batch of epoch\n",
    "        losses[\"D\"].append(d_loss)\n",
    "        losses[\"G\"].append(g_loss)\n",
    "\n",
    "        # Update the plots\n",
    "        if e == 1 or e%plt_frq == 0:\n",
    "            plot_generated()\n",
    "    plot_loss(losses)"
   ]
  },
  {
   "cell_type": "code",
   "execution_count": null,
   "id": "759a2a23-5dca-4199-a49e-8b8904043251",
   "metadata": {},
   "outputs": [],
   "source": [
    "train(epochs=200, plt_frq=20, BATCH_SIZE=128)"
   ]
  },
  {
   "cell_type": "markdown",
   "id": "39c269fd-1104-44ff-bd8d-5361d4cd2140",
   "metadata": {},
   "source": [
    "___\n",
    "Output while training:\n",
    "![alt text](gan_train.png \"Title\")"
   ]
  },
  {
   "cell_type": "code",
   "execution_count": null,
   "id": "054f1a89-3026-42bf-992d-2c28eeb36049",
   "metadata": {},
   "outputs": [],
   "source": []
  }
 ],
 "metadata": {
  "kernelspec": {
   "display_name": "Python 3 (ipykernel)",
   "language": "python",
   "name": "python3"
  },
  "language_info": {
   "codemirror_mode": {
    "name": "ipython",
    "version": 3
   },
   "file_extension": ".py",
   "mimetype": "text/x-python",
   "name": "python",
   "nbconvert_exporter": "python",
   "pygments_lexer": "ipython3",
   "version": "3.7.3"
  }
 },
 "nbformat": 4,
 "nbformat_minor": 5
}
