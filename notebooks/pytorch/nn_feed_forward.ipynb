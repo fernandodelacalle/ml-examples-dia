{
 "cells": [
  {
   "cell_type": "code",
   "execution_count": 1,
   "id": "b9e71146-1f21-48b0-bf1a-ab363fc25869",
   "metadata": {},
   "outputs": [],
   "source": [
    "import torch\n",
    "from torch import nn\n",
    "import matplotlib.pyplot as plt\n",
    "import numpy as np\n",
    "import tqdm\n",
    "import ipywidgets\n",
    "import pandas as pd"
   ]
  },
  {
   "cell_type": "code",
   "execution_count": 2,
   "id": "ac98df34-f5f0-4a77-b69e-b8cf88aeec08",
   "metadata": {},
   "outputs": [],
   "source": [
    "from datasets.mnist import mnist_data"
   ]
  },
  {
   "cell_type": "code",
   "execution_count": 3,
   "id": "496a86f7-60a5-4713-9750-9ba538c6f032",
   "metadata": {},
   "outputs": [],
   "source": [
    "(x_train, y_train), (x_test, y_test) = mnist_data()"
   ]
  },
  {
   "cell_type": "code",
   "execution_count": 4,
   "id": "11a64d20-fb86-4e17-a579-d81aed6a3f4a",
   "metadata": {},
   "outputs": [
    {
     "data": {
      "application/vnd.jupyter.widget-view+json": {
       "model_id": "84d9aadf27b74199bcab5d3a622bf9a3",
       "version_major": 2,
       "version_minor": 0
      },
      "text/plain": [
       "interactive(children=(IntSlider(value=0, description='i', max=59999), Output()), _dom_classes=('widget-interac…"
      ]
     },
     "metadata": {},
     "output_type": "display_data"
    }
   ],
   "source": [
    "@ipywidgets.interact(i=ipywidgets.widgets.IntSlider(min=0, max=x_train.shape[0]-1, step=1, value=0))\n",
    "def plot_img(i=1):\n",
    "    plt.imshow(x_train[i], cmap='gray')\n",
    "    plt.title(f'label: {y_test[i]}')"
   ]
  },
  {
   "cell_type": "code",
   "execution_count": 5,
   "id": "175c96c9-27e4-4fc5-b35f-977c7869f082",
   "metadata": {},
   "outputs": [],
   "source": [
    "class NeuralNetwork(nn.Module):\n",
    "    def __init__(self):\n",
    "        super(NeuralNetwork, self).__init__()\n",
    "        self.linear_relu_stack = nn.Sequential(\n",
    "            nn.Flatten(),\n",
    "            nn.Linear(28*28, 512),\n",
    "            nn.ReLU(),\n",
    "            nn.Linear(512, 10),\n",
    "        )\n",
    "\n",
    "    def forward(self, x):\n",
    "        logits = self.linear_relu_stack(x)\n",
    "        return logits"
   ]
  },
  {
   "cell_type": "code",
   "execution_count": 6,
   "id": "e38732f0-b6f5-467c-aa09-c30e95848210",
   "metadata": {},
   "outputs": [
    {
     "name": "stdout",
     "output_type": "stream",
     "text": [
      "NeuralNetwork(\n",
      "  (linear_relu_stack): Sequential(\n",
      "    (0): Flatten(start_dim=1, end_dim=-1)\n",
      "    (1): Linear(in_features=784, out_features=512, bias=True)\n",
      "    (2): ReLU()\n",
      "    (3): Linear(in_features=512, out_features=10, bias=True)\n",
      "  )\n",
      ")\n"
     ]
    }
   ],
   "source": [
    "model = NeuralNetwork()\n",
    "print(model)"
   ]
  },
  {
   "cell_type": "code",
   "execution_count": 7,
   "id": "545d18b7-7827-4994-bf7a-9fe109fafc23",
   "metadata": {},
   "outputs": [
    {
     "data": {
      "text/plain": [
       "(28, 28)"
      ]
     },
     "execution_count": 7,
     "metadata": {},
     "output_type": "execute_result"
    }
   ],
   "source": [
    "x_train[0].shape"
   ]
  },
  {
   "cell_type": "code",
   "execution_count": 8,
   "id": "9506fc6b-9378-49c7-83b6-b7d1877ab12f",
   "metadata": {},
   "outputs": [
    {
     "data": {
      "text/plain": [
       "(1, 28, 28)"
      ]
     },
     "execution_count": 8,
     "metadata": {},
     "output_type": "execute_result"
    }
   ],
   "source": [
    "x_train[0:1].shape"
   ]
  },
  {
   "cell_type": "code",
   "execution_count": 9,
   "id": "68d493fb-0ba7-4c5b-9514-dd659dd1445f",
   "metadata": {},
   "outputs": [],
   "source": [
    "x_np = torch.from_numpy(x_train[0:1])"
   ]
  },
  {
   "cell_type": "code",
   "execution_count": 10,
   "id": "3110c715-fcf7-4cf3-b447-9a4a3bde3ee6",
   "metadata": {},
   "outputs": [
    {
     "data": {
      "text/plain": [
       "tensor([[ -4.3175,  -1.4349,  11.2225, -20.9679,   9.1151,  10.1445,  -2.6740,\n",
       "          34.2519,  17.5969,  22.3943]], grad_fn=<AddmmBackward>)"
      ]
     },
     "execution_count": 10,
     "metadata": {},
     "output_type": "execute_result"
    }
   ],
   "source": [
    "model(x_np)"
   ]
  },
  {
   "cell_type": "code",
   "execution_count": 12,
   "id": "ba4865d0-babe-428d-a24b-19569036ce41",
   "metadata": {},
   "outputs": [],
   "source": [
    "model = NeuralNetwork()\n",
    "loss_fn = nn.CrossEntropyLoss()\n",
    "#optimizer = torch.optim.SGD(model.parameters(), lr=1e-3)\n",
    "optimizer = torch.optim.Adam(model.parameters(),lr=3e-4)"
   ]
  },
  {
   "cell_type": "code",
   "execution_count": 13,
   "id": "bc1aa274-73d2-4989-accd-06e41145e79e",
   "metadata": {},
   "outputs": [],
   "source": [
    "x_train_tensor = torch.from_numpy(x_train)\n",
    "y_train_tensor = torch.from_numpy(y_train)"
   ]
  },
  {
   "cell_type": "code",
   "execution_count": 18,
   "id": "1b43a0d6-315e-4059-8ecf-f7c558e7a429",
   "metadata": {
    "tags": []
   },
   "outputs": [
    {
     "name": "stderr",
     "output_type": "stream",
     "text": [
      "loss: 0.36 acc: 0.94: 100%|██████████| 400/400 [00:08<00:00, 46.52it/s]  \n"
     ]
    }
   ],
   "source": [
    "batch_size = 128\n",
    "train_metrics = pd.DataFrame(columns=['loss', 'acc_batch'])\n",
    "\n",
    "for i in (t := tqdm.trange(400)):\n",
    "    idx = np.random.randint(0, x_train.shape[0], 32)\n",
    "    \n",
    "    x_batch = x_train_tensor[idx]\n",
    "    y_batch = y_train_tensor[idx]\n",
    "    \n",
    "    # Compute prediction error\n",
    "    pred = model(x_batch)\n",
    "    loss = loss_fn(pred, y_batch)\n",
    "    \n",
    "    # Backpropagation\n",
    "    optimizer.zero_grad()\n",
    "    loss.backward()\n",
    "    optimizer.step()\n",
    "    \n",
    "    batch_acc = (pred.argmax(1) == y_batch).float().mean()    \n",
    "    train_metrics.loc[i, :] = (loss.item(), batch_acc.item())\n",
    "    t.set_description(f\"loss: {loss.item():.2} acc: {batch_acc:.2}\")"
   ]
  },
  {
   "cell_type": "code",
   "execution_count": 19,
   "id": "f369de9a-3929-4418-bea4-808f37c18130",
   "metadata": {},
   "outputs": [
    {
     "data": {
      "text/plain": [
       "array([<AxesSubplot:>, <AxesSubplot:>], dtype=object)"
      ]
     },
     "execution_count": 19,
     "metadata": {},
     "output_type": "execute_result"
    },
    {
     "data": {
      "image/png": "[encoded data removed]",
      "text/plain": [
       "<Figure size 432x288 with 2 Axes>"
      ]
     },
     "metadata": {
      "needs_background": "light"
     },
     "output_type": "display_data"
    }
   ],
   "source": [
    "train_metrics.plot(subplots=True)"
   ]
  },
  {
   "cell_type": "code",
   "execution_count": 20,
   "id": "2696d043-8c41-41ae-9b37-dd2bc9f694b3",
   "metadata": {},
   "outputs": [
    {
     "name": "stdout",
     "output_type": "stream",
     "text": [
      "0.937749981880188\n"
     ]
    }
   ],
   "source": [
    "pred_train = model(x_train_tensor)\n",
    "acc_train = (pred_train.argmax(1) == y_train_tensor).float().mean()\n",
    "print(acc_train.item())"
   ]
  },
  {
   "cell_type": "code",
   "execution_count": 21,
   "id": "98b019de-5366-4529-871a-74aed10a94ee",
   "metadata": {},
   "outputs": [
    {
     "name": "stdout",
     "output_type": "stream",
     "text": [
      "0.9329000115394592\n"
     ]
    }
   ],
   "source": [
    "x_test_tensor = torch.from_numpy(x_test)\n",
    "y_test_tensor = torch.from_numpy(y_test) \n",
    "pred_test = model(x_test_tensor)\n",
    "acc_test = (pred_test.argmax(1) == y_test_tensor).float().mean()\n",
    "print(acc_test.item())"
   ]
  }
 ],
 "metadata": {
  "kernelspec": {
   "display_name": "Python 3",
   "language": "python",
   "name": "python3"
  },
  "language_info": {
   "codemirror_mode": {
    "name": "ipython",
    "version": 3
   },
   "file_extension": ".py",
   "mimetype": "text/x-python",
   "name": "python",
   "nbconvert_exporter": "python",
   "pygments_lexer": "ipython3",
   "version": "3.8.9"
  }
 },
 "nbformat": 4,
 "nbformat_minor": 5
}
